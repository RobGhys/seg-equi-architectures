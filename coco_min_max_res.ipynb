{
 "cells": [
  {
   "cell_type": "code",
   "id": "initial_id",
   "metadata": {
    "collapsed": true,
    "ExecuteTime": {
     "end_time": "2024-10-28T11:20:35.157696Z",
     "start_time": "2024-10-28T11:20:17.450753Z"
    }
   },
   "source": [
    "import os\n",
    "from PIL import Image\n",
    "\n",
    "# Chemin du dossier principal\n",
    "base_dir = '/home/rob/Documents/3_projects/bench/coco/output/imgs'\n",
    "\n",
    "# Initialisation des variables pour stocker les images aux plus petites et grandes résolutions\n",
    "min_resolution_image = None\n",
    "min_resolution_size = (float('inf'), float('inf'))\n",
    "max_resolution_image = None\n",
    "max_resolution_size = (0, 0)\n",
    "\n",
    "# Parcourir chaque sous-dossier\n",
    "for fold in os.listdir(base_dir):\n",
    "    fold_path = os.path.join(base_dir, fold)\n",
    "    \n",
    "    # Vérifier que c'est bien un dossier\n",
    "    if os.path.isdir(fold_path):\n",
    "        for image_file in os.listdir(fold_path):\n",
    "            image_path = os.path.join(fold_path, image_file)\n",
    "            \n",
    "            # Ouvrir l'image et obtenir sa résolution\n",
    "            try:\n",
    "                with Image.open(image_path) as img:\n",
    "                    width, height = img.size\n",
    "                    resolution = (width, height)\n",
    "                    \n",
    "                    # Vérifier si c'est la plus petite résolution\n",
    "                    if resolution < min_resolution_size:\n",
    "                        min_resolution_size = resolution\n",
    "                        min_resolution_image = image_path\n",
    "                    \n",
    "                    # Vérifier si c'est la plus grande résolution\n",
    "                    if resolution > max_resolution_size:\n",
    "                        max_resolution_size = resolution\n",
    "                        max_resolution_image = image_path\n",
    "            \n",
    "            except Exception as e:\n",
    "                print(f\"Erreur en ouvrant l'image {image_path}: {e}\")\n",
    "\n",
    "# Afficher les résultats\n",
    "print(f\"Image avec la plus petite résolution : {min_resolution_image} - {min_resolution_size[0]}x{min_resolution_size[1]}\")\n",
    "print(f\"Image avec la plus grande résolution : {max_resolution_image} - {max_resolution_size[0]}x{max_resolution_size[1]}\")\n"
   ],
   "outputs": [
    {
     "name": "stdout",
     "output_type": "stream",
     "text": [
      "Image avec la plus petite résolution : /home/rob/Documents/3_projects/bench/coco/output/imgs/fold_1/000000363747.jpg - 59x72\n",
      "Image avec la plus grande résolution : /home/rob/Documents/3_projects/bench/coco/output/imgs/fold_2/000000299468.jpg - 640x640\n"
     ]
    }
   ],
   "execution_count": 1
  }
 ],
 "metadata": {
  "kernelspec": {
   "display_name": "Python 3",
   "language": "python",
   "name": "python3"
  },
  "language_info": {
   "codemirror_mode": {
    "name": "ipython",
    "version": 2
   },
   "file_extension": ".py",
   "mimetype": "text/x-python",
   "name": "python",
   "nbconvert_exporter": "python",
   "pygments_lexer": "ipython2",
   "version": "2.7.6"
  }
 },
 "nbformat": 4,
 "nbformat_minor": 5
}
