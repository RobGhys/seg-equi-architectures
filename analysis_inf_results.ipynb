{
 "cells": [
  {
   "metadata": {
    "ExecuteTime": {
     "end_time": "2024-10-29T08:37:38.230258Z",
     "start_time": "2024-10-29T08:37:37.410640Z"
    }
   },
   "cell_type": "code",
   "source": [
    "import json\n",
    "import numpy as np\n",
    "import scipy.stats as stats\n",
    "import os\n",
    "import pandas as pd"
   ],
   "id": "c506566519757954",
   "outputs": [],
   "execution_count": 1
  },
  {
   "cell_type": "code",
   "id": "initial_id",
   "metadata": {
    "collapsed": true,
    "ExecuteTime": {
     "end_time": "2024-10-29T08:37:38.240403Z",
     "start_time": "2024-10-29T08:37:38.236702Z"
    }
   },
   "source": [
    "def calculate_mean_confidence_interval(data, confidence=0.95):\n",
    "    mean = np.mean(data)\n",
    "    n = len(data)\n",
    "    stderr = stats.sem(data)\n",
    "    h = stderr * stats.t.ppf((1 + confidence) / 2., n - 1)\n",
    "    return mean, h"
   ],
   "outputs": [],
   "execution_count": 2
  },
  {
   "metadata": {
    "ExecuteTime": {
     "end_time": "2024-10-29T08:37:38.368085Z",
     "start_time": "2024-10-29T08:37:38.364498Z"
    }
   },
   "cell_type": "code",
   "source": [
    "#model_size = 'small'\n",
    "model_size = 'large'\n",
    "#input_path = f'final_inference_results_ten_percent_{model_size}.json'\n",
    "input_path = f'final_inference_results_ten_percent_{model_size}.json'\n",
    "with open(input_path, 'r') as f:\n",
    "    original_results = json.load(f)"
   ],
   "id": "70a4d91e77965bb2",
   "outputs": [],
   "execution_count": 3
  },
  {
   "metadata": {
    "ExecuteTime": {
     "end_time": "2024-10-29T08:37:38.454522Z",
     "start_time": "2024-10-29T08:37:38.419079Z"
    }
   },
   "cell_type": "code",
   "source": [
    "# Prepare the new dictionary to hold the mean and confidence intervals\n",
    "aggregated_results = {}\n",
    "\n",
    "# Iterate through each dataset and model to compute mean and confidence intervals\n",
    "for dataset_name, models in original_results.items():\n",
    "    aggregated_results[dataset_name] = {}\n",
    "    for model_name, folds in models.items():\n",
    "        metrics_aggregated = {}\n",
    "        for fold_name, metrics in folds.items():\n",
    "            for metric_name, value in metrics.items():\n",
    "                if metric_name not in metrics_aggregated:\n",
    "                    metrics_aggregated[metric_name] = []\n",
    "                metrics_aggregated[metric_name].append(value)\n",
    "\n",
    "        # Calculate mean and 95% confidence interval for each metric\n",
    "        metrics_summary = {}\n",
    "        for metric_name, values in metrics_aggregated.items():\n",
    "            mean, ci = calculate_mean_confidence_interval(values)\n",
    "            metrics_summary[metric_name] = {\n",
    "                \"mean\": mean,\n",
    "                \"95%_CI\": ci\n",
    "            }\n",
    "\n",
    "        aggregated_results[dataset_name][model_name] = metrics_summary\n",
    "\n",
    "# Save the aggregated results to a new JSON file\n",
    "#output_path = f'aggregated_inference_results_ten_percent_{model_size}.json'\n",
    "output_path = f'aggregated_inference_results{model_size}.json'\n",
    "with open(output_path, 'w') as f:\n",
    "    json.dump(aggregated_results, f, indent=4)"
   ],
   "id": "58b12a790f6263f0",
   "outputs": [],
   "execution_count": 4
  },
  {
   "metadata": {
    "ExecuteTime": {
     "end_time": "2024-10-29T08:37:38.466911Z",
     "start_time": "2024-10-29T08:37:38.461025Z"
    }
   },
   "cell_type": "code",
   "source": [
    "rows = []\n",
    "for dataset_name, models in aggregated_results.items():\n",
    "    for model_name, metrics in models.items():\n",
    "        row = {\"Dataset\": dataset_name, \"Model\": model_name}\n",
    "        for metric_name, summary in metrics.items():\n",
    "            mean = summary[\"mean\"]\n",
    "            ci = summary[\"95%_CI\"]\n",
    "            row[f\"{metric_name}\"] = f\"{mean:.4f} ± {ci:.4f}\"\n",
    "        rows.append(row)\n",
    "\n",
    "df = pd.DataFrame(rows)"
   ],
   "id": "da641b6cf18c0976",
   "outputs": [],
   "execution_count": 5
  },
  {
   "metadata": {
    "ExecuteTime": {
     "end_time": "2024-10-29T08:37:38.522057Z",
     "start_time": "2024-10-29T08:37:38.514831Z"
    }
   },
   "cell_type": "code",
   "source": [
    "df_isaid = df.loc[df['Dataset'] == 'isaid']\n",
    "\n",
    "print(df_isaid)"
   ],
   "id": "23aea68e6d80442f",
   "outputs": [
    {
     "name": "stdout",
     "output_type": "stream",
     "text": [
      "  Dataset         Model              IoU             Dice   Pixel Accuracy  \\\n",
      "4   isaid    UNet_e2cnn  0.3205 ± 0.0101  0.3599 ± 0.0108  0.9633 ± 0.0032   \n",
      "5   isaid  UNet_vanilla  0.3624 ± 0.0200  0.4074 ± 0.0227  0.9689 ± 0.0025   \n",
      "6   isaid            C8  0.3234 ± 0.0098  0.3628 ± 0.0107  0.9652 ± 0.0029   \n",
      "7   isaid            D4  0.2634 ± 0.0064  0.2963 ± 0.0077  0.9606 ± 0.0031   \n",
      "\n",
      "     Mean Accuracy Frequency Weighted IoU           Recall        Precision  \n",
      "4  0.3493 ± 0.0107        0.9360 ± 0.0052  0.3493 ± 0.0107  0.4162 ± 0.0117  \n",
      "5  0.3972 ± 0.0204        0.9461 ± 0.0038  0.3972 ± 0.0204  0.4654 ± 0.0280  \n",
      "6  0.3522 ± 0.0103        0.9391 ± 0.0047  0.3522 ± 0.0103  0.4196 ± 0.0146  \n",
      "7  0.2871 ± 0.0075        0.9315 ± 0.0050  0.2871 ± 0.0075  0.3455 ± 0.0074  \n"
     ]
    }
   ],
   "execution_count": 6
  },
  {
   "metadata": {
    "ExecuteTime": {
     "end_time": "2024-10-29T08:37:38.641106Z",
     "start_time": "2024-10-29T08:37:38.633770Z"
    }
   },
   "cell_type": "code",
   "source": [
    "df_coco = df.loc[df['Dataset'] == 'coco']\n",
    "\n",
    "print(df_coco)"
   ],
   "id": "bf7be7a399ddb830",
   "outputs": [
    {
     "name": "stdout",
     "output_type": "stream",
     "text": [
      "  Dataset         Model              IoU             Dice   Pixel Accuracy  \\\n",
      "0    coco    UNet_e2cnn  0.1057 ± 0.0020  0.1388 ± 0.0024  0.6040 ± 0.0033   \n",
      "1    coco  UNet_vanilla  0.1086 ± 0.0026  0.1447 ± 0.0033  0.6094 ± 0.0043   \n",
      "2    coco            C8  0.1039 ± 0.0012  0.1365 ± 0.0015  0.6029 ± 0.0032   \n",
      "3    coco            D4  0.0906 ± 0.0016  0.1207 ± 0.0020  0.5872 ± 0.0038   \n",
      "\n",
      "     Mean Accuracy Frequency Weighted IoU           Recall        Precision  \n",
      "0  0.1473 ± 0.0026        0.4722 ± 0.0023  0.1473 ± 0.0026  0.1740 ± 0.0037  \n",
      "1  0.1518 ± 0.0042        0.4774 ± 0.0046  0.1518 ± 0.0042  0.1838 ± 0.0041  \n",
      "2  0.1449 ± 0.0013        0.4722 ± 0.0012  0.1449 ± 0.0013  0.1706 ± 0.0024  \n",
      "3  0.1286 ± 0.0025        0.4558 ± 0.0040  0.1286 ± 0.0025  0.1504 ± 0.0032  \n"
     ]
    }
   ],
   "execution_count": 7
  },
  {
   "metadata": {
    "ExecuteTime": {
     "end_time": "2024-10-29T08:37:38.779581Z",
     "start_time": "2024-10-29T08:37:38.776165Z"
    }
   },
   "cell_type": "code",
   "source": "",
   "id": "a342d2c7232bedab",
   "outputs": [],
   "execution_count": null
  }
 ],
 "metadata": {
  "kernelspec": {
   "display_name": "Python 3",
   "language": "python",
   "name": "python3"
  },
  "language_info": {
   "codemirror_mode": {
    "name": "ipython",
    "version": 2
   },
   "file_extension": ".py",
   "mimetype": "text/x-python",
   "name": "python",
   "nbconvert_exporter": "python",
   "pygments_lexer": "ipython2",
   "version": "2.7.6"
  }
 },
 "nbformat": 4,
 "nbformat_minor": 5
}
