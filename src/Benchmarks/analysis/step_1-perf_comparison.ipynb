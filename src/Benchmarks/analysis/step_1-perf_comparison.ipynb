{
 "cells": [
  {
   "metadata": {},
   "cell_type": "markdown",
   "source": "# Analysis of the results",
   "id": "971a73f49bc12cd8"
  },
  {
   "metadata": {
    "ExecuteTime": {
     "end_time": "2024-08-01T14:18:49.109681Z",
     "start_time": "2024-08-01T14:18:48.697426Z"
    }
   },
   "cell_type": "code",
   "source": [
    "import os\n",
    "import json\n",
    "import numpy as np\n",
    "from scipy import stats"
   ],
   "id": "7749ec064416a5a8",
   "outputs": [
    {
     "name": "stderr",
     "output_type": "stream",
     "text": [
      "/usr/lib/python3/dist-packages/scipy/__init__.py:146: UserWarning: A NumPy version >=1.17.3 and <1.25.0 is required for this version of SciPy (detected version 1.25.1\n",
      "  warnings.warn(f\"A NumPy version >={np_minversion} and <{np_maxversion}\"\n"
     ]
    }
   ],
   "execution_count": 1
  },
  {
   "metadata": {},
   "cell_type": "markdown",
   "source": "## Get best results for each fold",
   "id": "30c7f6ffe19fe13"
  },
  {
   "metadata": {
    "ExecuteTime": {
     "end_time": "2024-08-01T14:18:49.115969Z",
     "start_time": "2024-08-01T14:18:49.111174Z"
    }
   },
   "cell_type": "code",
   "source": [
    "def construct_path_from_parent(root_dir, subdir_list):\n",
    "    # Construct the path using os.path.join\n",
    "    return os.path.join(root_dir, *subdir_list)"
   ],
   "id": "bb8cd9eb1fc259f1",
   "outputs": [],
   "execution_count": 2
  },
  {
   "metadata": {
    "ExecuteTime": {
     "end_time": "2024-08-01T14:18:49.134555Z",
     "start_time": "2024-08-01T14:18:49.119208Z"
    }
   },
   "cell_type": "code",
   "source": [
    "current_dir = os.getcwd()\n",
    "dataset_name = \"NucleiSeg\"\n",
    "model_names = [\"UNet_vanilla\", \"UNet_bcnn\", \"UNet_e2cnn\"]\n",
    "\n",
    "folds = [f'fold_{i}' for i in range(5)]\n",
    "criteria = 'loss_dice'\n",
    "perf_metrics = ['dice_score', 'IoU_score', 'precision', 'recall', 'accuracy']"
   ],
   "id": "initial_id",
   "outputs": [],
   "execution_count": 3
  },
  {
   "metadata": {
    "ExecuteTime": {
     "end_time": "2024-08-01T14:18:49.158406Z",
     "start_time": "2024-08-01T14:18:49.135714Z"
    }
   },
   "cell_type": "code",
   "source": [
    "def get_best_metrics(summary_loc: str, fold_nb: int, result_dict: dict, \n",
    "                     perf_metrics: list, criteria: str) -> None:\n",
    "    with open(summary_loc) as file:\n",
    "        data = json.load(file)\n",
    "        \n",
    "    data = data['test']\n",
    "\n",
    "    best_idx = np.argmin(data[criteria])\n",
    "    \n",
    "    fold_dict: dict = {}\n",
    "    for metric in perf_metrics:\n",
    "        fold_dict[metric] = data[metric][best_idx]\n",
    "    fold_dict['epoch'] = best_idx\n",
    "    \n",
    "    if fold_nb in result_dict:\n",
    "        raise KeyError(f\"Key '{fold_nb}' already present in dictionary.\")\n",
    "    \n",
    "    result_dict[fold_nb] = fold_dict"
   ],
   "id": "a617eb0c83072f4c",
   "outputs": [],
   "execution_count": 4
  },
  {
   "metadata": {
    "ExecuteTime": {
     "end_time": "2024-08-01T14:18:49.171062Z",
     "start_time": "2024-08-01T14:18:49.161022Z"
    }
   },
   "cell_type": "code",
   "source": [
    "def build_path(dataset_name: str, \n",
    "               model_name: str, \n",
    "               fold_nb: str, \n",
    "               root_dir: str = '/home/rob/Documents/3_projects/bench/_results') -> str:\n",
    "    subdirs = [dataset_name, model_name, fold_nb, \"summary.json\"]\n",
    "\n",
    "    summary_loc = construct_path_from_parent(root_dir, subdirs)\n",
    "    if os.path.exists(summary_loc):\n",
    "        print(f'summary.json loc: {summary_loc}')\n",
    "    else:\n",
    "        print(f'No file at the path you provided: {summary_loc}.')\n",
    "    \n",
    "    return summary_loc"
   ],
   "id": "60490ea8f8330b37",
   "outputs": [],
   "execution_count": 5
  },
  {
   "metadata": {
    "ExecuteTime": {
     "end_time": "2024-08-01T14:18:49.207936Z",
     "start_time": "2024-08-01T14:18:49.172883Z"
    }
   },
   "cell_type": "code",
   "source": [
    "for model_name in model_names:\n",
    "    result_dict: dict = {}\n",
    "\n",
    "    for fold in folds:\n",
    "        summary_loc = build_path(dataset_name, model_name, fold)\n",
    "        get_best_metrics(summary_loc, fold, result_dict, perf_metrics, criteria)\n",
    "        \n",
    "    results = {}\n",
    "    \n",
    "    for metric in perf_metrics:\n",
    "        data = np.array([result_dict[f\"fold_{i}\"][metric] for i in range(5)])\n",
    "        mean = np.mean(data)\n",
    "        ci = stats.t.interval(alpha=0.95, df=len(data)-1, loc=np.mean(data), scale=stats.sem(data))\n",
    "        results[metric] = {\n",
    "            \"mean\": mean,\n",
    "            \"95% CI\": ci\n",
    "        }\n",
    "        \n",
    "    output_path = f'/home/rob/Documents/3_projects/bench/analysis/{dataset_name}'\n",
    "    os.makedirs(output_path, exist_ok=True)\n",
    "    \n",
    "    json_name = f'/{dataset_name}_{model_name}_data.json'\n",
    "    with open(f'{output_path}{json_name}', 'w') as fp:\n",
    "        json.dump(results, fp, default=str, indent=4)"
   ],
   "id": "2ad9b65c9343b8a",
   "outputs": [
    {
     "name": "stdout",
     "output_type": "stream",
     "text": [
      "summary.json loc: /home/rob/Documents/3_projects/bench/_results/NucleiSeg/UNet_vanilla/fold_0/summary.json\n",
      "summary.json loc: /home/rob/Documents/3_projects/bench/_results/NucleiSeg/UNet_vanilla/fold_1/summary.json\n",
      "summary.json loc: /home/rob/Documents/3_projects/bench/_results/NucleiSeg/UNet_vanilla/fold_2/summary.json\n",
      "summary.json loc: /home/rob/Documents/3_projects/bench/_results/NucleiSeg/UNet_vanilla/fold_3/summary.json\n",
      "summary.json loc: /home/rob/Documents/3_projects/bench/_results/NucleiSeg/UNet_vanilla/fold_4/summary.json\n",
      "summary.json loc: /home/rob/Documents/3_projects/bench/_results/NucleiSeg/UNet_bcnn/fold_0/summary.json\n",
      "summary.json loc: /home/rob/Documents/3_projects/bench/_results/NucleiSeg/UNet_bcnn/fold_1/summary.json\n",
      "summary.json loc: /home/rob/Documents/3_projects/bench/_results/NucleiSeg/UNet_bcnn/fold_2/summary.json\n",
      "summary.json loc: /home/rob/Documents/3_projects/bench/_results/NucleiSeg/UNet_bcnn/fold_3/summary.json\n",
      "summary.json loc: /home/rob/Documents/3_projects/bench/_results/NucleiSeg/UNet_bcnn/fold_4/summary.json\n",
      "summary.json loc: /home/rob/Documents/3_projects/bench/_results/NucleiSeg/UNet_e2cnn/fold_0/summary.json\n",
      "summary.json loc: /home/rob/Documents/3_projects/bench/_results/NucleiSeg/UNet_e2cnn/fold_1/summary.json\n",
      "summary.json loc: /home/rob/Documents/3_projects/bench/_results/NucleiSeg/UNet_e2cnn/fold_2/summary.json\n",
      "summary.json loc: /home/rob/Documents/3_projects/bench/_results/NucleiSeg/UNet_e2cnn/fold_3/summary.json\n",
      "summary.json loc: /home/rob/Documents/3_projects/bench/_results/NucleiSeg/UNet_e2cnn/fold_4/summary.json\n"
     ]
    }
   ],
   "execution_count": 6
  }
 ],
 "metadata": {
  "kernelspec": {
   "display_name": "Python 3",
   "language": "python",
   "name": "python3"
  },
  "language_info": {
   "codemirror_mode": {
    "name": "ipython",
    "version": 2
   },
   "file_extension": ".py",
   "mimetype": "text/x-python",
   "name": "python",
   "nbconvert_exporter": "python",
   "pygments_lexer": "ipython2",
   "version": "2.7.6"
  }
 },
 "nbformat": 4,
 "nbformat_minor": 5
}
