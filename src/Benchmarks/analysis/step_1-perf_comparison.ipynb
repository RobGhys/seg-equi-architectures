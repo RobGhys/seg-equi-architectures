{
 "cells": [
  {
   "metadata": {},
   "cell_type": "markdown",
   "source": "# Analysis of the results",
   "id": "971a73f49bc12cd8"
  },
  {
   "metadata": {
    "ExecuteTime": {
     "end_time": "2024-08-26T09:55:48.688375Z",
     "start_time": "2024-08-26T09:55:48.684914Z"
    }
   },
   "cell_type": "code",
   "source": [
    "import os\n",
    "import json\n",
    "import numpy as np\n",
    "from scipy import stats"
   ],
   "id": "7749ec064416a5a8",
   "outputs": [],
   "execution_count": 23
  },
  {
   "metadata": {},
   "cell_type": "markdown",
   "source": "## Get best results for each fold",
   "id": "30c7f6ffe19fe13"
  },
  {
   "metadata": {
    "ExecuteTime": {
     "end_time": "2024-08-26T09:55:48.736858Z",
     "start_time": "2024-08-26T09:55:48.733207Z"
    }
   },
   "cell_type": "code",
   "source": [
    "def construct_path_from_parent(root_dir, subdir_list):\n",
    "    # Construct the path using os.path.join\n",
    "    return os.path.join(root_dir, *subdir_list)"
   ],
   "id": "bb8cd9eb1fc259f1",
   "outputs": [],
   "execution_count": 24
  },
  {
   "metadata": {
    "ExecuteTime": {
     "end_time": "2024-08-26T09:55:48.806904Z",
     "start_time": "2024-08-26T09:55:48.801135Z"
    }
   },
   "cell_type": "code",
   "source": [
    "root_dir = '/home/rob/Documents/3_projects/bench/_results/small_models'\n",
    "output_dir_base_path = '/home/rob/Documents/3_projects/bench/analysis/small_models'\n",
    "os.makedirs(output_dir_base_path, exist_ok=True)\n",
    "\n",
    "current_dir = os.getcwd()\n",
    "#dataset_name = \"kvasir\"\n",
    "#dataset_name = \"NucleiSeg\"\n",
    "#dataset_name = \"URDE\"\n",
    "dataset_name = \"isaid\"\n",
    "#dataset_name = \"coco\"\n",
    "\n",
    "model_names = [\"UNet_vanilla\", \"UNet_bcnn\", \"UNet_e2cnn\"]\n",
    "\n",
    "folds = [f'fold_{i}' for i in range(5)]\n",
    "criteria = 'loss_dice'\n",
    "\n",
    "if dataset_name in [\"kvasir\", \"NucleiSeg\", \"URDE\"]:\n",
    "    perf_metrics = ['dice_score', 'IoU_score', 'precision_metric', 'recall_metric', 'accuracy_metric']\n",
    "else:\n",
    "    perf_metrics = ['IoU_score', 'precision_metric', 'recall_metric', 'accuracy_metric']"
   ],
   "id": "initial_id",
   "outputs": [],
   "execution_count": 25
  },
  {
   "metadata": {
    "ExecuteTime": {
     "end_time": "2024-08-26T09:55:48.853688Z",
     "start_time": "2024-08-26T09:55:48.850210Z"
    }
   },
   "cell_type": "code",
   "source": [
    "# def get_best_metrics(summary_loc: str, fold_nb: int, result_dict: dict, \n",
    "#                      perf_metrics: list, criteria: str, num_params: int) -> int:\n",
    "#     with open(summary_loc) as file:\n",
    "#         data = json.load(file)\n",
    "#         \n",
    "#     if num_params == 0:\n",
    "#         num_params = data['n_params']\n",
    "#     data = data['test']\n",
    "# \n",
    "#     best_idx = np.argmin(data[criteria])\n",
    "#     \n",
    "#     fold_dict: dict = {}\n",
    "#     for metric in perf_metrics:\n",
    "#         fold_dict[metric] = data[metric][best_idx]\n",
    "#     fold_dict['epoch'] = best_idx\n",
    "#     \n",
    "#     if fold_nb in result_dict:\n",
    "#         raise KeyError(f\"Key '{fold_nb}' already present in dictionary.\")\n",
    "#     \n",
    "#     result_dict[fold_nb] = fold_dict\n",
    "#     \n",
    "#     return num_params"
   ],
   "id": "a617eb0c83072f4c",
   "outputs": [],
   "execution_count": 26
  },
  {
   "metadata": {
    "ExecuteTime": {
     "end_time": "2024-08-26T09:55:48.906557Z",
     "start_time": "2024-08-26T09:55:48.898034Z"
    }
   },
   "cell_type": "code",
   "source": [
    "def get_best_metrics(summary_loc: str, fold_nb: int, result_dict: dict, \n",
    "                     perf_metrics: list, criteria: str, num_params: int) -> int:\n",
    "    with open(summary_loc) as file:\n",
    "        data = json.load(file)\n",
    "        \n",
    "    if num_params == 0:\n",
    "        num_params = data.get('n_params', 0)\n",
    "    data = data.get('test', {})\n",
    "\n",
    "    if criteria not in data or not data[criteria]:\n",
    "        raise ValueError(f\"Criteria '{criteria}' is not in the data or has no values.\")\n",
    "    \n",
    "    best_idx = np.argmin(data[criteria])\n",
    "    \n",
    "    if best_idx >= len(data[criteria]):\n",
    "        raise IndexError(\"Calculated best index is out of bounds for the criteria list.\")\n",
    "    \n",
    "    if not all(len(data[metric]) == len(data[criteria]) for metric in perf_metrics):\n",
    "        raise ValueError(\"Mismatch in length between criteria and performance metrics.\")\n",
    "    \n",
    "    fold_dict: dict = {}\n",
    "    for metric in perf_metrics:\n",
    "        fold_dict[metric] = data[metric][best_idx]\n",
    "    fold_dict['epoch'] = best_idx\n",
    "    \n",
    "    if fold_nb in result_dict:\n",
    "        raise KeyError(f\"Key '{fold_nb}' already present in dictionary.\")\n",
    "    \n",
    "    result_dict[fold_nb] = fold_dict\n",
    "    \n",
    "    return num_params\n"
   ],
   "id": "aba3c3ffe095f3b5",
   "outputs": [],
   "execution_count": 27
  },
  {
   "metadata": {
    "ExecuteTime": {
     "end_time": "2024-08-26T09:55:48.956190Z",
     "start_time": "2024-08-26T09:55:48.951980Z"
    }
   },
   "cell_type": "code",
   "source": [
    "def build_path(dataset_name: str, \n",
    "               model_name: str, \n",
    "               fold_nb: str, \n",
    "               root_dir: str = '/home/rob/Documents/3_projects/bench/_results') -> str:\n",
    "    subdirs = [dataset_name, model_name, fold_nb, \"summary.json\"]\n",
    "\n",
    "    summary_loc = construct_path_from_parent(root_dir, subdirs)\n",
    "    if os.path.exists(summary_loc):\n",
    "        print(f'summary.json loc: {summary_loc}')\n",
    "    else:\n",
    "        print(f'No file at the path you provided: {summary_loc}.')\n",
    "    \n",
    "    return summary_loc"
   ],
   "id": "60490ea8f8330b37",
   "outputs": [],
   "execution_count": 28
  },
  {
   "metadata": {
    "ExecuteTime": {
     "end_time": "2024-08-26T09:55:49.044808Z",
     "start_time": "2024-08-26T09:55:49.004814Z"
    }
   },
   "cell_type": "code",
   "source": [
    "for model_name in model_names:\n",
    "    result_dict: dict = {}\n",
    "    num_params: int = 0\n",
    "    \n",
    "    for fold in folds:\n",
    "        summary_loc = build_path(dataset_name, model_name, fold, root_dir=root_dir)\n",
    "        num_params = get_best_metrics(summary_loc, fold, result_dict, perf_metrics, criteria, num_params)\n",
    "        \n",
    "    results = {'num_params': num_params}\n",
    "\n",
    "    for metric in perf_metrics:\n",
    "        data = np.array([result_dict[f\"fold_{i}\"][metric] for i in range(5)])\n",
    "        mean = np.mean(data)\n",
    "        ci = stats.t.interval(confidence=0.95, df=len(data)-1, loc=np.mean(data), scale=stats.sem(data))\n",
    "        results[metric] = {\n",
    "            \"mean\": mean,\n",
    "            \"95% CI\": ci\n",
    "        }\n",
    "        \n",
    "    output_path = os.path.join(output_dir_base_path, dataset_name)\n",
    "    os.makedirs(output_path, exist_ok=True)\n",
    "    \n",
    "    json_name = f'/{dataset_name}_{model_name}_data.json'\n",
    "    with open(f'{output_path}{json_name}', 'w') as fp:\n",
    "        json.dump(results, fp, default=str, indent=4)\n",
    "        \n",
    "        "
   ],
   "id": "2ad9b65c9343b8a",
   "outputs": [
    {
     "name": "stdout",
     "output_type": "stream",
     "text": [
      "summary.json loc: /home/rob/Documents/3_projects/bench/_results/small_models/isaid/UNet_vanilla/fold_0/summary.json\n",
      "summary.json loc: /home/rob/Documents/3_projects/bench/_results/small_models/isaid/UNet_vanilla/fold_1/summary.json\n",
      "summary.json loc: /home/rob/Documents/3_projects/bench/_results/small_models/isaid/UNet_vanilla/fold_2/summary.json\n",
      "summary.json loc: /home/rob/Documents/3_projects/bench/_results/small_models/isaid/UNet_vanilla/fold_3/summary.json\n",
      "summary.json loc: /home/rob/Documents/3_projects/bench/_results/small_models/isaid/UNet_vanilla/fold_4/summary.json\n",
      "summary.json loc: /home/rob/Documents/3_projects/bench/_results/small_models/isaid/UNet_bcnn/fold_0/summary.json\n",
      "summary.json loc: /home/rob/Documents/3_projects/bench/_results/small_models/isaid/UNet_bcnn/fold_1/summary.json\n",
      "summary.json loc: /home/rob/Documents/3_projects/bench/_results/small_models/isaid/UNet_bcnn/fold_2/summary.json\n",
      "summary.json loc: /home/rob/Documents/3_projects/bench/_results/small_models/isaid/UNet_bcnn/fold_3/summary.json\n",
      "summary.json loc: /home/rob/Documents/3_projects/bench/_results/small_models/isaid/UNet_bcnn/fold_4/summary.json\n",
      "summary.json loc: /home/rob/Documents/3_projects/bench/_results/small_models/isaid/UNet_e2cnn/fold_0/summary.json\n",
      "summary.json loc: /home/rob/Documents/3_projects/bench/_results/small_models/isaid/UNet_e2cnn/fold_1/summary.json\n",
      "summary.json loc: /home/rob/Documents/3_projects/bench/_results/small_models/isaid/UNet_e2cnn/fold_2/summary.json\n",
      "summary.json loc: /home/rob/Documents/3_projects/bench/_results/small_models/isaid/UNet_e2cnn/fold_3/summary.json\n",
      "summary.json loc: /home/rob/Documents/3_projects/bench/_results/small_models/isaid/UNet_e2cnn/fold_4/summary.json\n"
     ]
    }
   ],
   "execution_count": 29
  },
  {
   "metadata": {
    "ExecuteTime": {
     "end_time": "2024-08-26T09:55:49.092836Z",
     "start_time": "2024-08-26T09:55:49.090325Z"
    }
   },
   "cell_type": "code",
   "source": "",
   "id": "a2bcdd5d162aca6f",
   "outputs": [],
   "execution_count": null
  }
 ],
 "metadata": {
  "kernelspec": {
   "display_name": "Python 3",
   "language": "python",
   "name": "python3"
  },
  "language_info": {
   "codemirror_mode": {
    "name": "ipython",
    "version": 2
   },
   "file_extension": ".py",
   "mimetype": "text/x-python",
   "name": "python",
   "nbconvert_exporter": "python",
   "pygments_lexer": "ipython2",
   "version": "2.7.6"
  }
 },
 "nbformat": 4,
 "nbformat_minor": 5
}
