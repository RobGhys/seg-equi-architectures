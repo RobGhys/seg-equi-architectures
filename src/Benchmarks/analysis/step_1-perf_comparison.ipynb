{
 "cells": [
  {
   "metadata": {},
   "cell_type": "markdown",
   "source": "# Analysis of the results",
   "id": "971a73f49bc12cd8"
  },
  {
   "metadata": {
    "ExecuteTime": {
     "end_time": "2025-03-12T09:29:45.977716Z",
     "start_time": "2025-03-12T09:29:45.974568Z"
    }
   },
   "cell_type": "code",
   "source": [
    "import os\n",
    "import json\n",
    "import numpy as np\n",
    "from scipy import stats"
   ],
   "id": "7749ec064416a5a8",
   "outputs": [],
   "execution_count": 74
  },
  {
   "metadata": {},
   "cell_type": "markdown",
   "source": "## Get best results for each fold",
   "id": "30c7f6ffe19fe13"
  },
  {
   "metadata": {
    "ExecuteTime": {
     "end_time": "2025-03-12T09:29:46.025485Z",
     "start_time": "2025-03-12T09:29:46.022012Z"
    }
   },
   "cell_type": "code",
   "source": [
    "def construct_path_from_parent(root_dir, subdir_list):\n",
    "    # Construct the path using os.path.join\n",
    "    return os.path.join(root_dir, *subdir_list)"
   ],
   "id": "bb8cd9eb1fc259f1",
   "outputs": [],
   "execution_count": 75
  },
  {
   "metadata": {
    "ExecuteTime": {
     "end_time": "2025-03-12T09:29:46.073557Z",
     "start_time": "2025-03-12T09:29:46.068956Z"
    }
   },
   "cell_type": "code",
   "source": [
    "root_dir = '/home/rob/Documents/3_projects/bench/_results/large_models'\n",
    "output_dir_base_path = '/home/rob/Documents/3_projects/bench/analysis_tmlr_updates/large_models'\n",
    "os.makedirs(output_dir_base_path, exist_ok=True)\n",
    "\n",
    "current_dir = os.getcwd()\n",
    "#dataset_name = \"kvasir\"\n",
    "dataset_name = \"NucleiSeg\"\n",
    "#dataset_name = \"URDE\"\n",
    "#dataset_name = \"isaid\"\n",
    "#dataset_name = \"coco\"\n",
    "\n",
    "folds = [f'fold_{i}' for i in range(5)]\n",
    "criteria = 'loss_dice'\n",
    "\n",
    "if dataset_name in [\"kvasir\", \"NucleiSeg\", \"URDE\"]:\n",
    "    perf_metrics = ['dice_score', 'IoU_score', 'precision_metric', 'recall_metric', 'accuracy_metric']\n",
    "    model_names = [\"UNet_vanilla\", \"UNet_e2cnn\", \"C8\", \"D4\", \"C16\"]\n",
    "else:\n",
    "    perf_metrics = ['IoU_score', 'precision_metric', 'recall_metric', 'accuracy_metric', 'fw_iou', 'pacc']\n",
    "    model_names = [\"UNet_vanilla\", \"UNet_e2cnn\", \"C8\", \"D4\", \"C16\"]"
   ],
   "id": "initial_id",
   "outputs": [],
   "execution_count": 76
  },
  {
   "metadata": {
    "ExecuteTime": {
     "end_time": "2025-03-12T09:29:46.123331Z",
     "start_time": "2025-03-12T09:29:46.117247Z"
    }
   },
   "cell_type": "code",
   "source": [
    "def get_all_metrics(summary_loc: str, fold_nb: int, result_dict: dict, \n",
    "                     perf_metrics: list, criteria: str, num_params: int, \n",
    "                     select_best: bool = True) -> int:\n",
    "    with open(summary_loc) as file:\n",
    "        data = json.load(file)\n",
    "        \n",
    "    if num_params == 0:\n",
    "        num_params = data.get('n_params', 0)\n",
    "    data = data.get('test', {})\n",
    "\n",
    "    if criteria not in data or not data[criteria]:\n",
    "        raise ValueError(f\"Criteria '{criteria}' is not in the data or has no values.\")\n",
    "    \n",
    "    # Select either the best index (minimum value of the criteria) or the last index\n",
    "    if select_best:\n",
    "        best_idx = np.argmin(data[criteria])\n",
    "    else:\n",
    "        best_idx = len(data[criteria]) - 1\n",
    "    \n",
    "    if best_idx >= len(data[criteria]):\n",
    "        raise IndexError(\"Calculated index is out of bounds for the criteria list.\")\n",
    "    \n",
    "    if not all(len(data[metric]) == len(data[criteria]) for metric in perf_metrics):\n",
    "        raise ValueError(\"Mismatch in length between criteria and performance metrics.\")\n",
    "    \n",
    "    fold_dict: dict = {}\n",
    "    for metric in perf_metrics:\n",
    "        fold_dict[metric] = data[metric][best_idx]\n",
    "    fold_dict['epoch'] = best_idx\n",
    "    \n",
    "    if fold_nb in result_dict:\n",
    "        raise KeyError(f\"Key '{fold_nb}' already present in dictionary.\")\n",
    "    \n",
    "    result_dict[fold_nb] = fold_dict\n",
    "    \n",
    "    return num_params\n"
   ],
   "id": "aba3c3ffe095f3b5",
   "outputs": [],
   "execution_count": 77
  },
  {
   "metadata": {
    "ExecuteTime": {
     "end_time": "2025-03-12T09:29:46.172099Z",
     "start_time": "2025-03-12T09:29:46.166781Z"
    }
   },
   "cell_type": "code",
   "source": [
    "def build_path(dataset_name: str, \n",
    "               model_name: str, \n",
    "               fold_nb: str, \n",
    "               root_dir: str = '/home/rob/Documents/3_projects/bench/_results') -> str:\n",
    "    subdirs = [dataset_name, model_name, fold_nb, \"summary.json\"]\n",
    "\n",
    "    summary_loc = construct_path_from_parent(root_dir, subdirs)\n",
    "    if os.path.exists(summary_loc):\n",
    "        print(f'summary.json loc: {summary_loc}')\n",
    "    else:\n",
    "        print(f'No file at the path you provided: {summary_loc}.')\n",
    "    \n",
    "    return summary_loc"
   ],
   "id": "60490ea8f8330b37",
   "outputs": [],
   "execution_count": 78
  },
  {
   "metadata": {
    "ExecuteTime": {
     "end_time": "2025-03-12T09:29:46.270041Z",
     "start_time": "2025-03-12T09:29:46.216540Z"
    }
   },
   "cell_type": "code",
   "source": [
    "for model_name in model_names:\n",
    "    result_dict: dict = {}\n",
    "    num_params: int = 0\n",
    "    \n",
    "    for fold in folds:\n",
    "        summary_loc = build_path(dataset_name, model_name, fold, root_dir=root_dir)\n",
    "        num_params = get_all_metrics(summary_loc, fold, result_dict, perf_metrics, criteria, num_params, select_best=True)\n",
    "        \n",
    "    results = {'num_params': num_params}\n",
    "\n",
    "    for metric in perf_metrics:\n",
    "        data = np.array([result_dict[f\"fold_{i}\"][metric] for i in range(5)])\n",
    "        mean = np.mean(data)\n",
    "        ci = stats.t.interval(confidence=0.95, df=len(data)-1, loc=np.mean(data), scale=stats.sem(data))\n",
    "        results[metric] = {\n",
    "            \"mean\": mean,\n",
    "            \"95% CI\": ci\n",
    "        }\n",
    "        \n",
    "    output_path = os.path.join(output_dir_base_path, dataset_name)\n",
    "    os.makedirs(output_path, exist_ok=True)\n",
    "    \n",
    "    json_name = f'/{dataset_name}_{model_name}_data.json'\n",
    "    with open(f'{output_path}{json_name}', 'w') as fp:\n",
    "        json.dump(results, fp, default=str, indent=4)\n",
    "        \n",
    "        "
   ],
   "id": "2ad9b65c9343b8a",
   "outputs": [
    {
     "name": "stdout",
     "output_type": "stream",
     "text": [
      "summary.json loc: /home/rob/Documents/3_projects/bench/_results/large_models/NucleiSeg/UNet_vanilla/fold_0/summary.json\n",
      "summary.json loc: /home/rob/Documents/3_projects/bench/_results/large_models/NucleiSeg/UNet_vanilla/fold_1/summary.json\n",
      "summary.json loc: /home/rob/Documents/3_projects/bench/_results/large_models/NucleiSeg/UNet_vanilla/fold_2/summary.json\n",
      "summary.json loc: /home/rob/Documents/3_projects/bench/_results/large_models/NucleiSeg/UNet_vanilla/fold_3/summary.json\n",
      "summary.json loc: /home/rob/Documents/3_projects/bench/_results/large_models/NucleiSeg/UNet_vanilla/fold_4/summary.json\n",
      "summary.json loc: /home/rob/Documents/3_projects/bench/_results/large_models/NucleiSeg/UNet_e2cnn/fold_0/summary.json\n",
      "summary.json loc: /home/rob/Documents/3_projects/bench/_results/large_models/NucleiSeg/UNet_e2cnn/fold_1/summary.json\n",
      "summary.json loc: /home/rob/Documents/3_projects/bench/_results/large_models/NucleiSeg/UNet_e2cnn/fold_2/summary.json\n",
      "summary.json loc: /home/rob/Documents/3_projects/bench/_results/large_models/NucleiSeg/UNet_e2cnn/fold_3/summary.json\n",
      "summary.json loc: /home/rob/Documents/3_projects/bench/_results/large_models/NucleiSeg/UNet_e2cnn/fold_4/summary.json\n",
      "summary.json loc: /home/rob/Documents/3_projects/bench/_results/large_models/NucleiSeg/C8/fold_0/summary.json\n",
      "summary.json loc: /home/rob/Documents/3_projects/bench/_results/large_models/NucleiSeg/C8/fold_1/summary.json\n",
      "summary.json loc: /home/rob/Documents/3_projects/bench/_results/large_models/NucleiSeg/C8/fold_2/summary.json\n",
      "summary.json loc: /home/rob/Documents/3_projects/bench/_results/large_models/NucleiSeg/C8/fold_3/summary.json\n",
      "summary.json loc: /home/rob/Documents/3_projects/bench/_results/large_models/NucleiSeg/C8/fold_4/summary.json\n",
      "summary.json loc: /home/rob/Documents/3_projects/bench/_results/large_models/NucleiSeg/D4/fold_0/summary.json\n",
      "summary.json loc: /home/rob/Documents/3_projects/bench/_results/large_models/NucleiSeg/D4/fold_1/summary.json\n",
      "summary.json loc: /home/rob/Documents/3_projects/bench/_results/large_models/NucleiSeg/D4/fold_2/summary.json\n",
      "summary.json loc: /home/rob/Documents/3_projects/bench/_results/large_models/NucleiSeg/D4/fold_3/summary.json\n",
      "summary.json loc: /home/rob/Documents/3_projects/bench/_results/large_models/NucleiSeg/D4/fold_4/summary.json\n",
      "summary.json loc: /home/rob/Documents/3_projects/bench/_results/large_models/NucleiSeg/C16/fold_0/summary.json\n",
      "summary.json loc: /home/rob/Documents/3_projects/bench/_results/large_models/NucleiSeg/C16/fold_1/summary.json\n",
      "summary.json loc: /home/rob/Documents/3_projects/bench/_results/large_models/NucleiSeg/C16/fold_2/summary.json\n",
      "summary.json loc: /home/rob/Documents/3_projects/bench/_results/large_models/NucleiSeg/C16/fold_3/summary.json\n",
      "summary.json loc: /home/rob/Documents/3_projects/bench/_results/large_models/NucleiSeg/C16/fold_4/summary.json\n"
     ]
    }
   ],
   "execution_count": 79
  },
  {
   "metadata": {
    "ExecuteTime": {
     "end_time": "2025-03-12T09:29:46.295242Z",
     "start_time": "2025-03-12T09:29:46.292115Z"
    }
   },
   "cell_type": "code",
   "source": "",
   "id": "a2bcdd5d162aca6f",
   "outputs": [],
   "execution_count": null
  }
 ],
 "metadata": {
  "kernelspec": {
   "display_name": "Python 3",
   "language": "python",
   "name": "python3"
  },
  "language_info": {
   "codemirror_mode": {
    "name": "ipython",
    "version": 2
   },
   "file_extension": ".py",
   "mimetype": "text/x-python",
   "name": "python",
   "nbconvert_exporter": "python",
   "pygments_lexer": "ipython2",
   "version": "2.7.6"
  }
 },
 "nbformat": 4,
 "nbformat_minor": 5
}
