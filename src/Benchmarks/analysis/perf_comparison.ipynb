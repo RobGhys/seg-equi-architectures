{
 "cells": [
  {
   "metadata": {},
   "cell_type": "markdown",
   "source": "# Analysis of the results",
   "id": "971a73f49bc12cd8"
  },
  {
   "metadata": {
    "ExecuteTime": {
     "end_time": "2024-07-29T12:59:09.861161Z",
     "start_time": "2024-07-29T12:59:09.605734Z"
    }
   },
   "cell_type": "code",
   "source": [
    "import os\n",
    "import json\n",
    "import numpy as np\n",
    "from scipy import stats"
   ],
   "id": "7749ec064416a5a8",
   "outputs": [
    {
     "name": "stderr",
     "output_type": "stream",
     "text": [
      "/usr/lib/python3/dist-packages/scipy/__init__.py:146: UserWarning: A NumPy version >=1.17.3 and <1.25.0 is required for this version of SciPy (detected version 1.25.1\n",
      "  warnings.warn(f\"A NumPy version >={np_minversion} and <{np_maxversion}\"\n"
     ]
    }
   ],
   "execution_count": 1
  },
  {
   "metadata": {},
   "cell_type": "markdown",
   "source": "## Get best results for each fold",
   "id": "30c7f6ffe19fe13"
  },
  {
   "metadata": {
    "ExecuteTime": {
     "end_time": "2024-07-29T12:59:09.864466Z",
     "start_time": "2024-07-29T12:59:09.862426Z"
    }
   },
   "cell_type": "code",
   "source": [
    "def construct_path_from_parent(current_path, subdir_list):\n",
    "    # Get the parent directory\n",
    "    parent_dir = os.path.dirname(current_path)\n",
    "    \n",
    "    # Construct the path using os.path.join\n",
    "    return os.path.join(parent_dir, *subdir_list)"
   ],
   "id": "bb8cd9eb1fc259f1",
   "outputs": [],
   "execution_count": 2
  },
  {
   "metadata": {
    "ExecuteTime": {
     "end_time": "2024-07-29T12:59:09.891312Z",
     "start_time": "2024-07-29T12:59:09.865084Z"
    }
   },
   "cell_type": "code",
   "source": [
    "current_dir = os.getcwd()\n",
    "dataset_name = \"kvasir\"\n",
    "model_name = \"UNet_vanilla\"\n",
    "\n",
    "folds = [f'fold_{i}' for i in range(5)]\n",
    "criteria = 'loss_dice'\n",
    "perf_metrics = ['dice_score', 'IoU_score', 'precision', 'recall', 'accuracy']\n",
    "result_dict: dict = {}"
   ],
   "id": "initial_id",
   "outputs": [],
   "execution_count": 3
  },
  {
   "metadata": {
    "ExecuteTime": {
     "end_time": "2024-07-29T12:59:09.902600Z",
     "start_time": "2024-07-29T12:59:09.892092Z"
    }
   },
   "cell_type": "code",
   "source": [
    "def get_best_metrics(summary_loc: str, fold_nb: int, result_dict: dict, \n",
    "                     perf_metrics: list, criteria: str) -> None:\n",
    "    with open(summary_loc) as file:\n",
    "        data = json.load(file)\n",
    "        \n",
    "    data = data['test']\n",
    "\n",
    "    best_idx = np.argmin(data[criteria])\n",
    "    \n",
    "    fold_dict: dict = {}\n",
    "    for metric in perf_metrics:\n",
    "        fold_dict[metric] = data[metric][best_idx]\n",
    "    fold_dict['epoch'] = best_idx\n",
    "    \n",
    "    if fold_nb in result_dict:\n",
    "        raise KeyError(f\"Key '{fold_nb}' already present in dictionary.\")\n",
    "    \n",
    "    result_dict[fold_nb] = fold_dict"
   ],
   "id": "a617eb0c83072f4c",
   "outputs": [],
   "execution_count": 4
  },
  {
   "metadata": {
    "ExecuteTime": {
     "end_time": "2024-07-29T12:59:09.918795Z",
     "start_time": "2024-07-29T12:59:09.903970Z"
    }
   },
   "cell_type": "code",
   "source": [
    "def build_path(dataset_name: str, model_name: str, fold_nb: str) -> str:\n",
    "    subdirs = [\"training\", \"outputs\", dataset_name, model_name, fold_nb, \"summary.json\"]\n",
    "\n",
    "    summary_loc = construct_path_from_parent(current_dir, subdirs)\n",
    "    if os.path.exists(summary_loc):\n",
    "        print(f'summary.json loc: {summary_loc}')\n",
    "    else:\n",
    "        print(f'No file at the path you provided.')\n",
    "    \n",
    "    return summary_loc"
   ],
   "id": "60490ea8f8330b37",
   "outputs": [],
   "execution_count": 5
  },
  {
   "metadata": {
    "ExecuteTime": {
     "end_time": "2024-07-29T12:59:26.663392Z",
     "start_time": "2024-07-29T12:59:26.648351Z"
    }
   },
   "cell_type": "code",
   "source": [
    "for fold in folds:\n",
    "    summary_loc = build_path(dataset_name, model_name, fold)\n",
    "    get_best_metrics(summary_loc, fold, result_dict, perf_metrics, criteria)"
   ],
   "id": "2ad9b65c9343b8a",
   "outputs": [
    {
     "name": "stdout",
     "output_type": "stream",
     "text": [
      "summary.json loc: /home/rob/Documents/Github/seg-equi-architectures/src/Benchmarks/training/outputs/kvasir/UNet_vanilla/fold_0/summary.json\n",
      "summary.json loc: /home/rob/Documents/Github/seg-equi-architectures/src/Benchmarks/training/outputs/kvasir/UNet_vanilla/fold_1/summary.json\n",
      "summary.json loc: /home/rob/Documents/Github/seg-equi-architectures/src/Benchmarks/training/outputs/kvasir/UNet_vanilla/fold_2/summary.json\n",
      "summary.json loc: /home/rob/Documents/Github/seg-equi-architectures/src/Benchmarks/training/outputs/kvasir/UNet_vanilla/fold_3/summary.json\n",
      "summary.json loc: /home/rob/Documents/Github/seg-equi-architectures/src/Benchmarks/training/outputs/kvasir/UNet_vanilla/fold_4/summary.json\n"
     ]
    },
    {
     "data": {
      "text/plain": [
       "{'fold_0': {'dice_score': 0.8734993636608124,\n",
       "  'IoU_score': 0.7769129276275635,\n",
       "  'precision': 0.9252771437168121,\n",
       "  'recall': 0.8713351935148239,\n",
       "  'accuracy': 0.9695890247821808,\n",
       "  'epoch': 179},\n",
       " 'fold_1': {'dice_score': 0.8739893138408661,\n",
       "  'IoU_score': 0.7807178944349289,\n",
       "  'precision': 0.9170181155204773,\n",
       "  'recall': 0.8714165687561035,\n",
       "  'accuracy': 0.9695335924625397,\n",
       "  'epoch': 189},\n",
       " 'fold_2': {'dice_score': 0.8759756088256836,\n",
       "  'IoU_score': 0.7815407812595367,\n",
       "  'precision': 0.9347810447216034,\n",
       "  'recall': 0.8629176914691925,\n",
       "  'accuracy': 0.9699866771697998,\n",
       "  'epoch': 195},\n",
       " 'fold_3': {'dice_score': 0.8736938834190369,\n",
       "  'IoU_score': 0.7777127772569656,\n",
       "  'precision': 0.8957230746746063,\n",
       "  'recall': 0.898811087012291,\n",
       "  'accuracy': 0.9737357646226883,\n",
       "  'epoch': 183},\n",
       " 'fold_4': {'dice_score': 0.8492033183574677,\n",
       "  'IoU_score': 0.7394035309553146,\n",
       "  'precision': 0.8747237622737885,\n",
       "  'recall': 0.8647194355726242,\n",
       "  'accuracy': 0.9624717682600021,\n",
       "  'epoch': 193}}"
      ]
     },
     "execution_count": 7,
     "metadata": {},
     "output_type": "execute_result"
    }
   ],
   "execution_count": 7
  },
  {
   "metadata": {},
   "cell_type": "markdown",
   "source": "## Get average with 95% CI",
   "id": "1f9dcb8b9e8117"
  },
  {
   "metadata": {
    "ExecuteTime": {
     "end_time": "2024-07-29T12:59:29.208322Z",
     "start_time": "2024-07-29T12:59:29.190397Z"
    }
   },
   "cell_type": "code",
   "source": [
    "results = {}\n",
    "\n",
    "for metric in perf_metrics:\n",
    "    data = np.array([result_dict[f\"fold_{i}\"][metric] for i in range(5)])\n",
    "    mean = np.mean(data)\n",
    "    ci = stats.t.interval(alpha=0.95, df=len(data)-1, loc=np.mean(data), scale=stats.sem(data))\n",
    "    results[metric] = {\n",
    "        \"mean\": mean,\n",
    "        \"95% CI\": ci\n",
    "    }"
   ],
   "id": "74c991d53ee003ca",
   "outputs": [],
   "execution_count": 8
  },
  {
   "metadata": {},
   "cell_type": "markdown",
   "source": "## Create output file",
   "id": "9bbb7951c8212622"
  },
  {
   "metadata": {
    "ExecuteTime": {
     "end_time": "2024-07-29T12:59:30.723657Z",
     "start_time": "2024-07-29T12:59:30.718673Z"
    }
   },
   "cell_type": "code",
   "source": [
    "output_path = '/home/rob/Documents/3_projects/bench/analysis'\n",
    "with open(f'{output_path}/data.json', 'w') as fp:\n",
    "    json.dump(results, fp, default=str, indent=4)"
   ],
   "id": "fc27df79ebe45a98",
   "outputs": [],
   "execution_count": 9
  }
 ],
 "metadata": {
  "kernelspec": {
   "display_name": "Python 3",
   "language": "python",
   "name": "python3"
  },
  "language_info": {
   "codemirror_mode": {
    "name": "ipython",
    "version": 2
   },
   "file_extension": ".py",
   "mimetype": "text/x-python",
   "name": "python",
   "nbconvert_exporter": "python",
   "pygments_lexer": "ipython2",
   "version": "2.7.6"
  }
 },
 "nbformat": 4,
 "nbformat_minor": 5
}
