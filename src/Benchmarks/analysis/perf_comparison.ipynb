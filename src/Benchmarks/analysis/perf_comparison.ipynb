{
 "cells": [
  {
   "metadata": {},
   "cell_type": "markdown",
   "source": "# Analysis of the results",
   "id": "971a73f49bc12cd8"
  },
  {
   "metadata": {
    "ExecuteTime": {
     "end_time": "2024-07-16T14:25:19.435679Z",
     "start_time": "2024-07-16T14:25:19.425058Z"
    }
   },
   "cell_type": "code",
   "source": "import os",
   "id": "7749ec064416a5a8",
   "outputs": [],
   "execution_count": 1
  },
  {
   "metadata": {
    "ExecuteTime": {
     "end_time": "2024-07-16T14:25:19.456746Z",
     "start_time": "2024-07-16T14:25:19.437764Z"
    }
   },
   "cell_type": "code",
   "source": [
    "def construct_path_from_parent(current_path, subdir_list):\n",
    "    # Get the parent directory\n",
    "    parent_dir = os.path.dirname(current_path)\n",
    "    \n",
    "    # Construct the path using os.path.join\n",
    "    return os.path.join(parent_dir, *subdir_list)"
   ],
   "id": "bb8cd9eb1fc259f1",
   "outputs": [],
   "execution_count": 2
  },
  {
   "metadata": {
    "ExecuteTime": {
     "end_time": "2024-07-16T14:25:19.470383Z",
     "start_time": "2024-07-16T14:25:19.458532Z"
    }
   },
   "cell_type": "code",
   "source": [
    "current_dir = os.getcwd()\n",
    "dataset_name = \"kvasir\"\n",
    "model_name = \"UNet_vanilla\"\n",
    "fold_nb = \"fold_0\"\n",
    "subdirs = [\"training\", \"outputs\", dataset_name, model_name, fold_nb, \"summary.json\"]\n",
    "\n",
    "summary_loc = construct_path_from_parent(current_dir, subdirs)\n",
    "if os.path.exists(summary_loc):\n",
    "    print(f'summary.json loc: {summary_loc}')\n",
    "else:\n",
    "    print(f'No file at the path you provided.')"
   ],
   "id": "initial_id",
   "outputs": [
    {
     "name": "stdout",
     "output_type": "stream",
     "text": [
      "summary.json loc: /home/rob/Documents/Github/seg-equi-architectures/src/Benchmarks/training/outputs/kvasir/UNet_vanilla/fold_0/summary.json\n"
     ]
    }
   ],
   "execution_count": 3
  },
  {
   "metadata": {},
   "cell_type": "code",
   "outputs": [],
   "execution_count": null,
   "source": "",
   "id": "fc27df79ebe45a98"
  }
 ],
 "metadata": {
  "kernelspec": {
   "display_name": "Python 3",
   "language": "python",
   "name": "python3"
  },
  "language_info": {
   "codemirror_mode": {
    "name": "ipython",
    "version": 2
   },
   "file_extension": ".py",
   "mimetype": "text/x-python",
   "name": "python",
   "nbconvert_exporter": "python",
   "pygments_lexer": "ipython2",
   "version": "2.7.6"
  }
 },
 "nbformat": 4,
 "nbformat_minor": 5
}
