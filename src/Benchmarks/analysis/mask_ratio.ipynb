{
 "cells": [
  {
   "cell_type": "code",
   "id": "initial_id",
   "metadata": {
    "collapsed": true,
    "ExecuteTime": {
     "end_time": "2024-08-24T12:03:24.601388Z",
     "start_time": "2024-08-24T12:03:24.597109Z"
    }
   },
   "source": [
    "import os\n",
    "import numpy as np\n",
    "from PIL import Image\n",
    "\n",
    "dir_path = '/home/rob/Documents/3_projects/bench/kvasir/masks'\n",
    "\n",
    "def calculate_non_background_ratio(image_path):\n",
    "    image = Image.open(image_path)\n",
    "    \n",
    "    image_array = np.array(image)\n",
    "    \n",
    "    non_background_count = np.sum(image_array != 0)\n",
    "    \n",
    "    total_pixels = image_array.size\n",
    "    \n",
    "    non_background_ratio = (non_background_count / total_pixels) * 100\n",
    "    \n",
    "    return non_background_ratio"
   ],
   "outputs": [],
   "execution_count": 5
  },
  {
   "metadata": {
    "ExecuteTime": {
     "end_time": "2024-08-24T12:03:24.626011Z",
     "start_time": "2024-08-24T12:03:24.607429Z"
    }
   },
   "cell_type": "code",
   "source": [
    "def process_fold(fold_path):\n",
    "    ratios = []\n",
    "    \n",
    "    for image_name in os.listdir(fold_path):\n",
    "        image_path = os.path.join(fold_path, image_name)\n",
    "        if os.path.isfile(image_path):\n",
    "            ratio = calculate_non_background_ratio(image_path)\n",
    "            ratios.append(ratio)\n",
    "    \n",
    "    average_ratio = np.mean(ratios)\n",
    "    \n",
    "    return average_ratio"
   ],
   "id": "44b3cabe271615e5",
   "outputs": [],
   "execution_count": 6
  },
  {
   "metadata": {
    "ExecuteTime": {
     "end_time": "2024-08-24T12:03:24.668292Z",
     "start_time": "2024-08-24T12:03:24.664187Z"
    }
   },
   "cell_type": "code",
   "source": [
    "def process_directory(dir_path):\n",
    "    fold_ratios = {}\n",
    "    \n",
    "    for fold_name in os.listdir(dir_path):\n",
    "        fold_path = os.path.join(dir_path, fold_name)\n",
    "        if os.path.isdir(fold_path):\n",
    "            average_ratio = process_fold(fold_path)\n",
    "            fold_ratios[fold_name] = average_ratio\n",
    "    \n",
    "    return fold_ratios"
   ],
   "id": "9a3c98de028cc8ea",
   "outputs": [],
   "execution_count": 7
  },
  {
   "metadata": {
    "ExecuteTime": {
     "end_time": "2024-08-24T12:03:27.078795Z",
     "start_time": "2024-08-24T12:03:24.713473Z"
    }
   },
   "cell_type": "code",
   "source": [
    "\n",
    "fold_ratios = process_directory(dir_path)\n",
    "\n",
    "for fold, avg_ratio in fold_ratios.items():\n",
    "    print(f\"Fold: {fold}, Average Mask Ratio: {avg_ratio:.4f}\")"
   ],
   "id": "7c5a61dba054603c",
   "outputs": [
    {
     "name": "stdout",
     "output_type": "stream",
     "text": [
      "Fold: fold_2, Average Mask Ratio: 16.3988\n",
      "Fold: fold_3, Average Mask Ratio: 13.9790\n",
      "Fold: fold_1, Average Mask Ratio: 15.9203\n",
      "Fold: fold_0, Average Mask Ratio: 16.4243\n",
      "Fold: fold_4, Average Mask Ratio: 16.1867\n"
     ]
    }
   ],
   "execution_count": 8
  },
  {
   "metadata": {
    "ExecuteTime": {
     "end_time": "2024-08-24T12:03:27.155728Z",
     "start_time": "2024-08-24T12:03:27.152513Z"
    }
   },
   "cell_type": "code",
   "source": "",
   "id": "445f3e18e3914d5d",
   "outputs": [],
   "execution_count": null
  }
 ],
 "metadata": {
  "kernelspec": {
   "display_name": "Python 3",
   "language": "python",
   "name": "python3"
  },
  "language_info": {
   "codemirror_mode": {
    "name": "ipython",
    "version": 2
   },
   "file_extension": ".py",
   "mimetype": "text/x-python",
   "name": "python",
   "nbconvert_exporter": "python",
   "pygments_lexer": "ipython2",
   "version": "2.7.6"
  }
 },
 "nbformat": 4,
 "nbformat_minor": 5
}
