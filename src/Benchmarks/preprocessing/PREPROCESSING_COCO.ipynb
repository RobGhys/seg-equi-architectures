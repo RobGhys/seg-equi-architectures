{
 "cells": [
  {
   "cell_type": "markdown",
   "id": "f3b410f5-38d3-4622-9aa7-1f2328f5b02d",
   "metadata": {},
   "source": [
    "### Data exploration and preprocessing for the [...] dataset"
   ]
  },
  {
   "cell_type": "code",
   "id": "537c5ff8-f799-4cb7-9e13-acac1f50a4e6",
   "metadata": {},
   "source": [
    "\"\"\"\n",
    "Load the source dataset and preprocess it\n",
    "\n",
    "__ imgs\n",
    "    |\n",
    "    |__ fold_1\n",
    "          |__ datasetname_id.png --> images\n",
    "          |__ ...\n",
    "    |__ fold_2\n",
    "          |__ datasetname_id.png\n",
    "          |__ ...\n",
    "    |__ fold_3\n",
    "          |__ datasetname_id.png\n",
    "          |__ ...\n",
    "    |__ fold_4\n",
    "          |__ datasetname_id.png\n",
    "          |__ ...\n",
    "    |__ fold_5\n",
    "          |__ datasetname_id.png\n",
    "          |__ ...\n",
    "\n",
    "__ masks\n",
    "    |\n",
    "    |__ fold_1\n",
    "          |__ datasetname_id.png  --> segmentation mask\n",
    "          |__ ...\n",
    "    |__ fold_2\n",
    "          |__ datasetname_id.png\n",
    "          |__ ...\n",
    "    |__ fold_3\n",
    "          |__ datasetname_id.png\n",
    "          |__ ...\n",
    "    |__ fold_4\n",
    "          |__ datasetname_id.png\n",
    "          |__ ...\n",
    "    |__ fold_5\n",
    "          |__ datasetname_id.png\n",
    "          |__ ...\n",
    "\n",
    "For segmentation masks --> 0 and 1 (if more than 2 labels --> use SimpleITK to encode integers in images)\n",
    "\"\"\""
   ],
   "outputs": [],
   "execution_count": null
  },
  {
   "cell_type": "code",
   "id": "fe106b7b",
   "metadata": {},
   "source": [
    "import os\n",
    "import zipfile\n",
    "import random\n",
    "import shutil\n",
    "from PIL import Image\n",
    "from tqdm import tqdm\n",
    "import json \n",
    "import subprocess\n",
    "from pycocotools import mask as coco_mask\n",
    "import matplotlib.pyplot as plt\n",
    "import matplotlib.image as mpimg\n",
    "import matplotlib.pyplot as plt\n",
    "import pandas as pd \n",
    "import numpy as np\n",
    "\n",
    "from helpers import check_dir_consistency, visualize_images, get_all_dims, create_histograms_of_dims"
   ],
   "outputs": [],
   "execution_count": null
  },
  {
   "cell_type": "markdown",
   "id": "b3489be1",
   "metadata": {},
   "source": "### Download the dataset and its annotations"
  },
  {
   "cell_type": "code",
   "id": "67938a72",
   "metadata": {},
   "source": [
    "seed = 42"
   ],
   "outputs": [],
   "execution_count": null
  },
  {
   "cell_type": "code",
   "id": "03ca632c",
   "metadata": {},
   "source": [
    "data_source_dir = '/home/rob/Documents/3_projects/bench/coco/data' # <--- modify this\n",
    "output_dir = '/home/rob/Documents/3_projects/bench/coco/output' # <--- modify this\n",
    "tmp_data_dir = os.path.join(output_dir, 'tmp_data')\n",
    "\n",
    "skip_dl = True\n",
    "needs_unzip = False\n",
    "needs_data_copy = False\n",
    "[os.makedirs(dir, exist_ok=True) for dir in [data_source_dir, output_dir, tmp_data_dir]]"
   ],
   "outputs": [],
   "execution_count": null
  },
  {
   "cell_type": "code",
   "id": "7fc6493f",
   "metadata": {},
   "source": [
    "if skip_dl is False and len(os.listdir(data_source_dir)) == 0:\n",
    "    # Download source directories\n",
    "    subprocess.run(['wget', '-P', data_source_dir, 'http://images.cocodataset.org/zips/val2017.zip', '-O', os.path.join(data_source_dir, 'coco_val2017.zip')])\n",
    "    subprocess.run(['wget', '-P', data_source_dir, 'http://images.cocodataset.org/zips/train2017.zip', '-O', os.path.join(data_source_dir, 'coco_train2017.zip')])\n",
    "    subprocess.run(['wget', '-P', data_source_dir, 'http://images.cocodataset.org/annotations/stuff_annotations_trainval2017.zip', '-O', os.path.join(data_source_dir, 'stuff_annotations_trainval2017.zip')])\n",
    "else:\n",
    "    print(f'Skipping download.')"
   ],
   "outputs": [],
   "execution_count": null
  },
  {
   "cell_type": "code",
   "id": "893af8b9",
   "metadata": {},
   "source": [
    "data_sources = [os.path.join(data_source_dir, f) for f in os.listdir(data_source_dir)]\n",
    "data_sources"
   ],
   "outputs": [],
   "execution_count": null
  },
  {
   "cell_type": "code",
   "id": "0d07c916-90d5-4a5d-9686-2e1dc4ea20cd",
   "metadata": {},
   "source": [
    "# Unzip downloaded directories\n",
    "def unzip_dirs(data_sources: str, tmp_data_dir: str) -> list:\n",
    "    subdirs: list = []\n",
    "\n",
    "    for data_source in tqdm(data_sources, desc='Unzip dir'):\n",
    "        subdir_name = os.path.splitext(os.path.basename(data_source))[0]\n",
    "        subdir_path = os.path.join(tmp_data_dir, subdir_name)\n",
    "        subdirs.append(subdir_path)\n",
    "\n",
    "        # Make destination dir\n",
    "        os.makedirs(subdir_path, exist_ok=True)\n",
    "        \n",
    "        # Unzip\n",
    "        with zipfile.ZipFile(data_source, 'r') as zip_file:\n",
    "            print(f'Unzipping {data_source} into {subdir_path}')\n",
    "            zip_file.extractall(subdir_path)\n",
    "\n",
    "    return subdirs\n",
    "\n",
    "if needs_unzip:\n",
    "    subdirs = unzip_dirs(data_sources, tmp_data_dir)"
   ],
   "outputs": [],
   "execution_count": null
  },
  {
   "cell_type": "code",
   "id": "bd26a18c",
   "metadata": {},
   "source": [
    "annotations_dir = os.path.join(tmp_data_dir, 'stuff_annotations_trainval2017/annotations')\n",
    "annotations_train = os.path.join(annotations_dir, 'stuff_train2017.json')\n",
    "annotations_val = os.path.join(annotations_dir, 'stuff_val2017.json')"
   ],
   "outputs": [],
   "execution_count": null
  },
  {
   "metadata": {},
   "cell_type": "markdown",
   "source": "## Only use Train Data and make 5 folds from them",
   "id": "b5bae1ff29598f7f"
  },
  {
   "cell_type": "code",
   "id": "f38390c9",
   "metadata": {},
   "source": "img_source_dir = os.path.join(tmp_data_dir, 'coco_train2017', 'train2017')",
   "outputs": [],
   "execution_count": null
  },
  {
   "cell_type": "code",
   "id": "990c958d",
   "metadata": {},
   "source": [
    "all_dims = get_all_dims(img_source_dir)\n",
    "all_dims"
   ],
   "outputs": [],
   "execution_count": null
  },
  {
   "metadata": {},
   "cell_type": "code",
   "source": [
    "def plot_unique_dims(dimensions):\n",
    "    x_values = [dim[0] for dim in dimensions]\n",
    "    y_values = [dim[1] for dim in dimensions]\n",
    "\n",
    "    # Création du scatter plot\n",
    "    plt.scatter(x_values, y_values)\n",
    "    plt.title(\"Unique Image Dimensions (Width x Height)\")\n",
    "    plt.xlabel(\"Width (pixels)\")\n",
    "    plt.ylabel(\"Height (pixels)\")\n",
    "    plt.grid(True)\n",
    "    plt.show()"
   ],
   "id": "c903f69d45faa5f6",
   "outputs": [],
   "execution_count": null
  },
  {
   "metadata": {},
   "cell_type": "code",
   "source": "plot_unique_dims(all_dims)",
   "id": "5601cb0bd3d86815",
   "outputs": [],
   "execution_count": null
  },
  {
   "cell_type": "code",
   "id": "30f3f3f0",
   "metadata": {},
   "source": [
    "min_width = min(dim[0] for dim in all_dims)\n",
    "min_height = min(dim[1] for dim in all_dims)\n",
    "max_width = max(dim[0] for dim in all_dims)\n",
    "max_height = max(dim[1] for dim in all_dims)\n",
    "print(f\"Minimum width: {min_width} | max width: {max_width}\")\n",
    "print(f\"Minimum height: {min_height} | max height: {max_height}\")"
   ],
   "outputs": [],
   "execution_count": null
  },
  {
   "cell_type": "code",
   "id": "0bb71079",
   "metadata": {},
   "source": "print(img_source_dir)",
   "outputs": [],
   "execution_count": null
  },
  {
   "metadata": {},
   "cell_type": "code",
   "source": [
    "train_masks_dir = os.path.join(tmp_data_dir, 'stuff_annotations_trainval2017', 'annotations', 'stuff_train2017_pixelmaps.zip')\n",
    "valid_masks_dir = os.path.join(tmp_data_dir, 'stuff_annotations_trainval2017', 'annotations', 'stuff_val2017_pixelmaps.zip')"
   ],
   "id": "f36c0984e4fadf20",
   "outputs": [],
   "execution_count": null
  },
  {
   "metadata": {},
   "cell_type": "code",
   "source": [
    "def extract_zip(zip_path, extract_to):\n",
    "    with zipfile.ZipFile(zip_path, 'r') as zip_ref:\n",
    "        zip_ref.extractall(extract_to)\n",
    "        print(f\"Finished extracting: {zip_path}\")"
   ],
   "id": "377c9277dae4af18",
   "outputs": [],
   "execution_count": null
  },
  {
   "metadata": {},
   "cell_type": "code",
   "source": [
    "if needs_unzip:\n",
    "    extract_zip(train_masks_dir, tmp_data_dir)"
   ],
   "id": "a6a7e3bd8f9541ec",
   "outputs": [],
   "execution_count": null
  },
  {
   "metadata": {},
   "cell_type": "code",
   "source": [
    "if needs_unzip:\n",
    "    extract_zip(valid_masks_dir, tmp_data_dir)"
   ],
   "id": "af512d7d3fc590a6",
   "outputs": [],
   "execution_count": null
  },
  {
   "metadata": {},
   "cell_type": "code",
   "source": [
    "unziped_train_masks_dir = os.path.join(tmp_data_dir, 'stuff_train2017_pixelmaps')\n",
    "unziped_valid_masks_dir = os.path.join(tmp_data_dir, 'stuff_val2017_pixelmaps')"
   ],
   "id": "4eb7e20e4cceb252",
   "outputs": [],
   "execution_count": null
  },
  {
   "metadata": {},
   "cell_type": "markdown",
   "source": "## Get Train images",
   "id": "5cd9ef5d70c317ae"
  },
  {
   "metadata": {},
   "cell_type": "code",
   "source": [
    "imgs_dir = os.path.join(tmp_data_dir, 'imgs')\n",
    "os.makedirs(imgs_dir, exist_ok=True)"
   ],
   "id": "a7695367512a7b82",
   "outputs": [],
   "execution_count": null
  },
  {
   "metadata": {},
   "cell_type": "code",
   "source": "# valid_masks_files = set(os.listdir(unziped_valid_masks_dir))",
   "id": "934c8677bcacee36",
   "outputs": [],
   "execution_count": null
  },
  {
   "metadata": {},
   "cell_type": "code",
   "source": "# len(valid_masks_files)",
   "id": "200397c63fe02997",
   "outputs": [],
   "execution_count": null
  },
  {
   "metadata": {},
   "cell_type": "code",
   "source": [
    "if needs_data_copy:\n",
    "    for img_file in tqdm(os.listdir(img_source_dir)):\n",
    "        src_path = os.path.join(img_source_dir, img_file)\n",
    "        dest_path = os.path.join(imgs_dir, img_file)\n",
    "        shutil.copy(src_path, dest_path)"
   ],
   "id": "f074c7b7d8d5e520",
   "outputs": [],
   "execution_count": null
  },
  {
   "metadata": {},
   "cell_type": "markdown",
   "source": "## Get Train masks",
   "id": "b10946703547f202"
  },
  {
   "metadata": {},
   "cell_type": "code",
   "source": [
    "masks_dir = os.path.join(tmp_data_dir, 'masks')\n",
    "os.makedirs(masks_dir, exist_ok=True)"
   ],
   "id": "6a350aeb6cfc438b",
   "outputs": [],
   "execution_count": null
  },
  {
   "metadata": {},
   "cell_type": "code",
   "source": [
    "if needs_data_copy:\n",
    "    for img_file in tqdm(os.listdir(unziped_train_masks_dir)):\n",
    "        src_path = os.path.join(unziped_train_masks_dir, img_file)\n",
    "        dest_path = os.path.join(masks_dir, img_file)\n",
    "        shutil.copy(src_path, dest_path)"
   ],
   "id": "a45ab066c0732101",
   "outputs": [],
   "execution_count": null
  },
  {
   "metadata": {},
   "cell_type": "code",
   "source": "print(imgs_dir)",
   "id": "689954d67159586",
   "outputs": [],
   "execution_count": null
  },
  {
   "metadata": {},
   "cell_type": "code",
   "source": "print(masks_dir)",
   "id": "3cb512828ac1daa",
   "outputs": [],
   "execution_count": null
  },
  {
   "metadata": {},
   "cell_type": "code",
   "source": [
    "img_files = os.listdir(imgs_dir)\n",
    "\n",
    "mask_files = os.listdir(masks_dir)\n",
    "print(len(img_files) == len(mask_files))"
   ],
   "id": "369a155493746ae3",
   "outputs": [],
   "execution_count": null
  },
  {
   "metadata": {},
   "cell_type": "code",
   "source": [
    "result = check_dir_consistency(imgs_dir, masks_dir)\n",
    "result"
   ],
   "id": "8a6a657dc9f9c5e6",
   "outputs": [],
   "execution_count": null
  },
  {
   "metadata": {},
   "cell_type": "markdown",
   "source": "## Finally, move to imgs and masks output dir",
   "id": "20ba2d7fe1072259"
  },
  {
   "metadata": {},
   "cell_type": "code",
   "source": [
    "output_dir_imgs = os.path.join(output_dir, 'imgs')\n",
    "os.makedirs(output_dir_imgs, exist_ok=True)\n",
    "\n",
    "output_dir_masks = os.path.join(output_dir, 'masks')\n",
    "os.makedirs(output_dir_masks, exist_ok=True)"
   ],
   "id": "9f6f1fde2d2806c5",
   "outputs": [],
   "execution_count": null
  },
  {
   "metadata": {},
   "cell_type": "code",
   "source": [
    "def create_folds_and_split_data(img_folder: str, mask_folder: str, output_dir: str, seed: int = 42, n_folds: int = 5):\n",
    "    # 0. Set random seed\n",
    "    np.random.seed(seed)\n",
    "    \n",
    "    # 1. Create folder structure\n",
    "    img_output_dir = os.path.join(output_dir, 'imgs')\n",
    "    mask_output_dir = os.path.join(output_dir, 'masks')\n",
    "\n",
    "    for i in range(0, n_folds):\n",
    "        os.makedirs(os.path.join(img_output_dir, f'fold_{i}'), exist_ok=True)\n",
    "        os.makedirs(os.path.join(mask_output_dir, f'fold_{i}'), exist_ok=True)\n",
    "\n",
    "    # 2. Shuffle and split images and masks\n",
    "    img_files = sorted(os.listdir(img_folder))\n",
    "    np.random.shuffle(img_files)\n",
    "\n",
    "    fold_size = len(img_files) // n_folds\n",
    "    print(f'Size of fold: {fold_size}')\n",
    "\n",
    "    for i, img_file in tqdm(enumerate(img_files)):\n",
    "        fold_num = (i // fold_size)\n",
    "        if fold_num > n_folds - 1:  # Avoid additional fold with fewer images\n",
    "            fold_num = n_folds - 1\n",
    "            \n",
    "        # 3. Copy files\n",
    "        img_src = os.path.join(img_folder, img_file)\n",
    "        img_dst = os.path.join(img_output_dir, f'fold_{fold_num}', img_file)\n",
    "        shutil.copy(img_src, img_dst)\n",
    "\n",
    "        # Copy corresponding mask\n",
    "        mask_file = img_file.split('.')[0] + '.png'\n",
    "        mask_src = os.path.join(mask_folder, mask_file)\n",
    "\n",
    "        mask_dst = os.path.join(mask_output_dir, f'fold_{fold_num}', mask_file)\n",
    "        shutil.copy(mask_src, mask_dst)\n",
    "    \n",
    "    return img_output_dir, mask_output_dir\n"
   ],
   "id": "e26bba9656295d02",
   "outputs": [],
   "execution_count": null
  },
  {
   "metadata": {},
   "cell_type": "code",
   "source": "img_output_dir, mask_output_dir = create_folds_and_split_data(imgs_dir, masks_dir, output_dir, seed)",
   "id": "58cb0a67a31c7e75",
   "outputs": [],
   "execution_count": null
  },
  {
   "metadata": {},
   "cell_type": "code",
   "source": "[len(os.listdir(os.path.join(output_dir, f'masks/fold_{i}'))) for i in range(5)]",
   "id": "6ecd66c02306cbe4",
   "outputs": [],
   "execution_count": null
  },
  {
   "metadata": {},
   "cell_type": "code",
   "source": "len(os.listdir(os.path.join(output_dir, 'masks/fold_4')))",
   "id": "c771451e825cbef3",
   "outputs": [],
   "execution_count": null
  },
  {
   "metadata": {},
   "cell_type": "code",
   "source": [
    "def verify_image_mask_correspondence(output_dir, img_folder, mask_folder, n_folds=5):\n",
    "    \"\"\"\n",
    "    Verify that every image in each fold has a corresponding mask and vice versa,\n",
    "    and that the total count of images and masks matches the original dataset.\n",
    "\n",
    "    Args:\n",
    "    output_dir (str): The base directory where the 'imgs' and 'masks' subdirectories are located.\n",
    "    img_folder (str): The directory containing the original images.\n",
    "    mask_folder (str): The directory containing the original masks.\n",
    "    n_folds (int): Number of folds to check for correspondence.\n",
    "\n",
    "    Raises:\n",
    "    Exception: If an image doesn't have a corresponding mask, a mask doesn't have a corresponding image,\n",
    "               or the total count of images and masks doesn't match the original dataset.\n",
    "\n",
    "    Returns:\n",
    "    bool: True if all tests pass, False otherwise.\n",
    "    \"\"\"\n",
    "    img_output_dir = os.path.join(output_dir, 'imgs')\n",
    "    mask_output_dir = os.path.join(output_dir, 'masks')\n",
    "    original_img_count = len(os.listdir(img_folder))\n",
    "    original_mask_count = len(os.listdir(mask_folder))\n",
    "    \n",
    "    total_img_count = 0\n",
    "    total_mask_count = 0\n",
    "\n",
    "    for i in tqdm(range(0, n_folds)):\n",
    "        img_fold_dir = os.path.join(img_output_dir, f'fold_{i}')\n",
    "        mask_fold_dir = os.path.join(mask_output_dir, f'fold_{i}')\n",
    "\n",
    "        img_files = set(os.listdir(img_fold_dir))\n",
    "        img_files_no_ext = [img_file.split('.')[0] for img_file in img_files]\n",
    "\n",
    "        mask_files = set(os.listdir(mask_fold_dir))\n",
    "        mask_files_no_ext = [img_file.split('.')[0] for img_file in img_files]\n",
    "\n",
    "        total_img_count += len(img_files)\n",
    "        total_mask_count += len(mask_files)\n",
    "\n",
    "        # Test 1: Each image has a corresponding mask\n",
    "        for img_file in img_files_no_ext:\n",
    "            if img_file not in mask_files_no_ext:\n",
    "                raise Exception(f\"Image {img_file} in fold_{i} does not have a corresponding mask.\")\n",
    "\n",
    "        # Test 2: Each mask has a corresponding image\n",
    "        for mask_file in mask_files_no_ext:\n",
    "            if mask_file not in img_files_no_ext:\n",
    "                raise Exception(f\"Mask {mask_file} in fold_{i} does not have a corresponding image.\")\n",
    "\n",
    "    # Test 3: Total count of images and masks matches the original dataset\n",
    "    if total_img_count != original_img_count or total_mask_count != original_mask_count:\n",
    "        raise Exception(\"The total count of images or masks does not match the original dataset.\")\n",
    "\n",
    "    return True"
   ],
   "id": "abb93f12e4ea529a",
   "outputs": [],
   "execution_count": null
  },
  {
   "metadata": {},
   "cell_type": "code",
   "source": [
    "try:\n",
    "    tests_passed = verify_image_mask_correspondence(output_dir, img_output_dir, mask_output_dir, n_folds=5)\n",
    "    if tests_passed:\n",
    "        print(\"All tests passed successfully.\")\n",
    "except Exception as e:\n",
    "    print(f\"Error: {e}\")"
   ],
   "id": "95bdabfff6928602",
   "outputs": [],
   "execution_count": null
  },
  {
   "metadata": {},
   "cell_type": "markdown",
   "source": "## Colormaping for masks",
   "id": "6f52269d1440291d"
  },
  {
   "metadata": {
    "ExecuteTime": {
     "end_time": "2024-08-14T08:25:21.391363Z",
     "start_time": "2024-08-14T08:25:21.387874Z"
    }
   },
   "cell_type": "code",
   "source": "annotation_file_json = os.path.join(tmp_data_dir, 'stuff_annotations_trainval2017', 'annotations', 'stuff_train2017.json')",
   "id": "849780cadde5e214",
   "outputs": [],
   "execution_count": 4
  },
  {
   "metadata": {
    "ExecuteTime": {
     "end_time": "2024-08-14T08:26:43.971114Z",
     "start_time": "2024-08-14T08:26:35.924197Z"
    }
   },
   "cell_type": "code",
   "source": [
    "with open(annotation_file_json, 'r') as f:\n",
    "    coco_data = json.load(f)"
   ],
   "id": "e8ca26e888122c82",
   "outputs": [],
   "execution_count": 5
  },
  {
   "metadata": {
    "ExecuteTime": {
     "end_time": "2024-08-14T08:26:47.023366Z",
     "start_time": "2024-08-14T08:26:46.970585Z"
    }
   },
   "cell_type": "code",
   "source": [
    "categories = coco_data['annotations']\n",
    "\n",
    "unique_category_ids = set(ann['category_id'] for ann in categories)\n",
    "\n",
    "num_unique_classes = len(unique_category_ids)\n",
    "\n",
    "print(f\"Nombre de classes uniques dans les annotations : {num_unique_classes}\")"
   ],
   "id": "9bf78634a10d8b5a",
   "outputs": [
    {
     "name": "stdout",
     "output_type": "stream",
     "text": [
      "Nombre de classes uniques dans les annotations : 92\n"
     ]
    }
   ],
   "execution_count": 6
  },
  {
   "metadata": {
    "ExecuteTime": {
     "end_time": "2024-08-14T08:45:47.913496Z",
     "start_time": "2024-08-14T08:45:47.905132Z"
    }
   },
   "cell_type": "code",
   "source": "unique_category_ids",
   "id": "681f6d43f615fdd9",
   "outputs": [
    {
     "data": {
      "text/plain": [
       "{92,\n",
       " 93,\n",
       " 94,\n",
       " 95,\n",
       " 96,\n",
       " 97,\n",
       " 98,\n",
       " 99,\n",
       " 100,\n",
       " 101,\n",
       " 102,\n",
       " 103,\n",
       " 104,\n",
       " 105,\n",
       " 106,\n",
       " 107,\n",
       " 108,\n",
       " 109,\n",
       " 110,\n",
       " 111,\n",
       " 112,\n",
       " 113,\n",
       " 114,\n",
       " 115,\n",
       " 116,\n",
       " 117,\n",
       " 118,\n",
       " 119,\n",
       " 120,\n",
       " 121,\n",
       " 122,\n",
       " 123,\n",
       " 124,\n",
       " 125,\n",
       " 126,\n",
       " 127,\n",
       " 128,\n",
       " 129,\n",
       " 130,\n",
       " 131,\n",
       " 132,\n",
       " 133,\n",
       " 134,\n",
       " 135,\n",
       " 136,\n",
       " 137,\n",
       " 138,\n",
       " 139,\n",
       " 140,\n",
       " 141,\n",
       " 142,\n",
       " 143,\n",
       " 144,\n",
       " 145,\n",
       " 146,\n",
       " 147,\n",
       " 148,\n",
       " 149,\n",
       " 150,\n",
       " 151,\n",
       " 152,\n",
       " 153,\n",
       " 154,\n",
       " 155,\n",
       " 156,\n",
       " 157,\n",
       " 158,\n",
       " 159,\n",
       " 160,\n",
       " 161,\n",
       " 162,\n",
       " 163,\n",
       " 164,\n",
       " 165,\n",
       " 166,\n",
       " 167,\n",
       " 168,\n",
       " 169,\n",
       " 170,\n",
       " 171,\n",
       " 172,\n",
       " 173,\n",
       " 174,\n",
       " 175,\n",
       " 176,\n",
       " 177,\n",
       " 178,\n",
       " 179,\n",
       " 180,\n",
       " 181,\n",
       " 182,\n",
       " 183}"
      ]
     },
     "execution_count": 7,
     "metadata": {},
     "output_type": "execute_result"
    }
   ],
   "execution_count": 7
  },
  {
   "metadata": {},
   "cell_type": "code",
   "outputs": [],
   "execution_count": null,
   "source": "",
   "id": "353fd63c2a4ddc92"
  }
 ],
 "metadata": {
  "kernelspec": {
   "display_name": "Python (.venv)",
   "language": "python",
   "name": ".venv"
  },
  "language_info": {
   "codemirror_mode": {
    "name": "ipython",
    "version": 3
   },
   "file_extension": ".py",
   "mimetype": "text/x-python",
   "name": "python",
   "nbconvert_exporter": "python",
   "pygments_lexer": "ipython3",
   "version": "3.11.6"
  }
 },
 "nbformat": 4,
 "nbformat_minor": 5
}
