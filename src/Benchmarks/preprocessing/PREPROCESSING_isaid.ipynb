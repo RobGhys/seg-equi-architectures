{
 "cells": [
  {
   "cell_type": "markdown",
   "id": "f3b410f5-38d3-4622-9aa7-1f2328f5b02d",
   "metadata": {},
   "source": [
    "### Data exploration and preprocessing for the [...] dataset"
   ]
  },
  {
   "cell_type": "code",
   "id": "537c5ff8-f799-4cb7-9e13-acac1f50a4e6",
   "metadata": {},
   "source": [
    "\"\"\"\n",
    "Load the source dataset and preprocess it\n",
    "\n",
    "__ imgs\n",
    "    |\n",
    "    |__ fold_1\n",
    "          |__ datasetname_id.png\n",
    "          |__ ...\n",
    "    |__ fold_2\n",
    "          |__ datasetname_id.png\n",
    "          |__ ...\n",
    "    |__ fold_3\n",
    "          |__ datasetname_id.png\n",
    "          |__ ...\n",
    "    |__ fold_4\n",
    "          |__ datasetname_id.png\n",
    "          |__ ...\n",
    "          |__ datasetname_id.png\n",
    "          |__ ...\n",
    "\n",
    "__ masks\n",
    "    |\n",
    "    |__ fold_1\n",
    "          |__ datasetname_id.png  --> segmentation mask\n",
    "          |__ datasetname_id.json --> segmentation box (COCO format)\n",
    "          |__ ...\n",
    "    |__ fold_2\n",
    "          |__ datasetname_id.png\n",
    "          |__ datasetname_id.json\n",
    "          |__ ...\n",
    "    |__ fold_3\n",
    "          |__ datasetname_id.png\n",
    "          |__ datasetname_id.json\n",
    "          |__ ...\n",
    "    |__ fold_4\n",
    "          |__ datasetname_id.png\n",
    "          |__ datasetname_id.json\n",
    "          |__ ...\n",
    "    |__ fold_5\n",
    "          |__ datasetname_id.png\n",
    "          |__ datasetname_id.json\n",
    "          |__ ...\n",
    "\n",
    "For segmentation masks --> 0 and 1 (if more than 2 labels --> use SimpleITK to encode integers in images)\n",
    "For segmentation boxes --> use the COCO format to encode boxes\n",
    "\"\"\""
   ],
   "outputs": [],
   "execution_count": null
  },
  {
   "cell_type": "code",
   "id": "6260ea2d-9605-46f6-8847-51070064323c",
   "metadata": {},
   "source": [
    "import os\n",
    "import zipfile\n",
    "import random\n",
    "import shutil\n",
    "from PIL import Image\n",
    "from tqdm import tqdm\n",
    "import json \n",
    "from PIL import ImageDraw\n",
    "\n",
    "import matplotlib.pyplot as plt\n",
    "import numpy as np\n",
    "\n",
    "from helpers import check_dir_consistency, visualize_images, get_all_dims, create_histograms_of_dims"
   ],
   "outputs": [],
   "execution_count": null
  },
  {
   "cell_type": "markdown",
   "id": "e8fbeab7",
   "metadata": {},
   "source": [
    "Please follow the suggested of download order.\n",
    "\n",
    "## 1. Train\n",
    "### 1.1 Original images from DOTA v1\n",
    "- Get the 'image' folder from https://drive.google.com/drive/folders/1gmeE3D7R62UAtuIFOB9j2M5cUPTwtsxK\n",
    "- 3 zips in total (1411 images):\n",
    "    - `part1.zip` (469 images)\n",
    "    - `part2.zip` (474 images)\n",
    "    - `part3.zip` (468 images)\n",
    "- Note: do not take '~1/part1.zip' in addition to '~part1.zip'\n",
    "\n",
    "### 1.2 Masks from isaid\n",
    "- Get all folders from https://drive.google.com/drive/folders/19RPVhC0dWpLF9Y_DYjxjUrwLbKUBQZ2K\n",
    "- 1 zip `train-20240131T084536Z-001.zip`\n",
    "\n",
    "\n",
    "## 2. Valid\n",
    "### 2.1. Original images from DOTA v1\n",
    "- Get the 'image' folder from https://drive.google.com/drive/folders/1RV7Z5MM4nJJJPUs6m9wsxDOJxX6HmQqZ\n",
    "- 1 zip file (458 images): \n",
    "    - `part1.zip` (458 images)\n",
    "- If you have followed suggested download order, this file should be renamed by your operating system (e.g., `part1 (1).zip`)\n",
    "### 2.2. Masks from isaid\n",
    "- Get all folders from https://drive.google.com/drive/folders/17MErPhWQrwr92Ca1Maf4mwiarPS5rcWM\n",
    "- 1 zip `val-20240131T084706Z-001.zip`\n",
    "\n",
    "## 3. Test\n",
    "Download is not needed given that annotations of the test set are not publicly available.\n",
    "\n",
    "There are a total of 1869 images for which annotations are provided.\n",
    "The remaining 937 images from the test set are not used."
   ]
  },
  {
   "cell_type": "markdown",
   "id": "22b1c85a-37e2-4273-a586-07a2f7d23285",
   "metadata": {},
   "source": [
    "## Prepare data"
   ]
  },
  {
   "cell_type": "code",
   "id": "91ca421a",
   "metadata": {},
   "source": [
    "seed = 42\n",
    "nb_folds = 5"
   ],
   "outputs": [],
   "execution_count": null
  },
  {
   "cell_type": "markdown",
   "id": "65e592e4",
   "metadata": {},
   "source": [
    "### Directories"
   ]
  },
  {
   "cell_type": "code",
   "id": "0dab1412-bfca-46b2-bbe4-be85140885b7",
   "metadata": {
    "collapsed": false
   },
   "source": [
    "input_dir = '/home/rob/Documents/3_projects/bench/isaid/data' # <--- modify this\n",
    "output_dir = '/home/rob/Documents/3_projects/bench/isaid/processed' # <--- modify this\n",
    "\n",
    "file_names = os.listdir(input_dir)\n",
    "file_names"
   ],
   "outputs": [],
   "execution_count": null
  },
  {
   "cell_type": "code",
   "id": "5243a7fd4bc48d6a",
   "metadata": {
    "collapsed": false
   },
   "source": [
    "data_sources = [os.path.join(input_dir, f) for f in file_names]\n",
    "print(f'Data file location: {data_sources}')"
   ],
   "outputs": [],
   "execution_count": null
  },
  {
   "cell_type": "code",
   "id": "33841ef0bf361afa",
   "metadata": {
    "collapsed": false
   },
   "source": [
    "tmp_data_dir = os.path.join(output_dir, 'tmp_data')\n",
    "os.makedirs(tmp_data_dir, exist_ok=True)\n",
    "print(tmp_data_dir)"
   ],
   "outputs": [],
   "execution_count": null
  },
  {
   "cell_type": "code",
   "id": "7d2c25dc",
   "metadata": {},
   "source": [
    "def unzip_dirs(data_sources: str, tmp_data_dir: str) -> list:\n",
    "    subdirs: list = []\n",
    "\n",
    "    for data_source in tqdm(data_sources, desc='Unzip dir'):\n",
    "        subdir_name = os.path.splitext(os.path.basename(data_source))[0]\n",
    "        subdir_path = os.path.join(tmp_data_dir, subdir_name)\n",
    "        subdirs.append(subdir_path)\n",
    "\n",
    "        # Make destination dir\n",
    "        os.makedirs(subdir_path, exist_ok=True)\n",
    "        \n",
    "        # Unzip\n",
    "        with zipfile.ZipFile(data_source, 'r') as zip_file:\n",
    "            print(f'Unzipping {data_source} into {subdir_path}')\n",
    "            zip_file.extractall(subdir_path)\n",
    "\n",
    "        # Clear new dir\n",
    "        images_dir = os.path.join(subdir_path, 'images')\n",
    "        if os.path.exists(images_dir):\n",
    "            # Move all images one directory higher in dir tree\n",
    "            for file_name in os.listdir(images_dir):\n",
    "                shutil.move(os.path.join(images_dir, file_name), subdir_path)\n",
    "            # Remove empty 'image' subdirectory\n",
    "            os.rmdir(images_dir)\n",
    "    return subdirs\n",
    "\n",
    "subdirs = unzip_dirs(data_sources, tmp_data_dir)"
   ],
   "outputs": [],
   "execution_count": null
  },
  {
   "cell_type": "markdown",
   "id": "f04376b9",
   "metadata": {},
   "source": [
    "###"
   ]
  },
  {
   "metadata": {},
   "cell_type": "markdown",
   "source": "## Unzip train & val masks",
   "id": "fc611dfb5cd5a825"
  },
  {
   "metadata": {},
   "cell_type": "code",
   "source": [
    "def unzip_masks(source, destination) -> int:\n",
    "    result: int = 0\n",
    "    print(f'Begin to unzip from {source} to {destination}')\n",
    "    os.makedirs(destination, exist_ok=True)\n",
    "    \n",
    "    with zipfile.ZipFile(source, 'r') as zip_ref:\n",
    "        zip_ref.extractall(destination)\n",
    "    \n",
    "    print(f'All Semantic masks extracted in {destination}')\n",
    "    \n",
    "    images_sub_dir = os.path.join(destination, 'images')\n",
    "    if os.path.exists(images_sub_dir):\n",
    "        for filename in os.listdir(images_sub_dir):\n",
    "            shutil.move(os.path.join(images_sub_dir, filename), destination)\n",
    "            result += 1\n",
    "        os.rmdir(images_sub_dir)\n",
    "        \n",
    "    return result"
   ],
   "id": "c07d5257ab115685",
   "outputs": [],
   "execution_count": null
  },
  {
   "metadata": {},
   "cell_type": "code",
   "source": [
    "train_masks_dir = os.path.join(tmp_data_dir, 'train-20240131T084536Z-001', 'train', 'Semantic_masks', 'images.zip')\n",
    "mask_output_dir = os.path.join(tmp_data_dir, 'all_masks')\n",
    "\n",
    "valid_masks_dir = os.path.join(tmp_data_dir, 'val-20240131T084706Z-001', 'val', 'Semantic_masks', 'images.zip')\n",
    "valid_masks_new_dir = os.path.join(tmp_data_dir, 'all_masks')\n",
    "\n",
    "unzip_masks(train_masks_dir, mask_output_dir)\n",
    "unzip_masks(valid_masks_dir, mask_output_dir)\n"
   ],
   "id": "7d9bdd3c7815127a",
   "outputs": [],
   "execution_count": null
  },
  {
   "metadata": {},
   "cell_type": "markdown",
   "source": "## Move all images",
   "id": "8f3d972a2e5dd5fa"
  },
  {
   "metadata": {},
   "cell_type": "code",
   "source": [
    "images_source_folders: list = ['part1', 'part1 (1)', 'part2', 'part3']\n",
    "images_output_dir: str = os.path.join(tmp_data_dir, 'all_images')"
   ],
   "id": "3601c185de023b34",
   "outputs": [],
   "execution_count": null
  },
  {
   "metadata": {},
   "cell_type": "code",
   "source": [
    "for folder in images_source_folders:\n",
    "    # Get the absolute path of the source folder\n",
    "    source_folder_path = os.path.join(tmp_data_dir, folder)\n",
    "    # Check if the source folder exists\n",
    "    if os.path.exists(source_folder_path):\n",
    "        # Loop through each file in the source folder\n",
    "        for filename in os.listdir(source_folder_path):\n",
    "            # Get the full path of the file\n",
    "            source_file_path = os.path.join(source_folder_path, filename)\n",
    "            # Get the destination path in the output directory\n",
    "            destination_file_path = os.path.join(images_output_dir, filename)\n",
    "            # Move the file to the output directory\n",
    "            shutil.move(source_file_path, destination_file_path)\n",
    "    else:\n",
    "        print(f\"Source folder {source_folder_path} does not exist\")\n",
    "\n",
    "print(f\"All images have been moved to {images_output_dir}\")"
   ],
   "id": "98d9f2ffd35abf24",
   "outputs": [],
   "execution_count": null
  },
  {
   "metadata": {},
   "cell_type": "markdown",
   "source": "## Create patches",
   "id": "6cbd5144202ae73"
  },
  {
   "metadata": {},
   "cell_type": "code",
   "source": [
    "def check_dir_consistency_info(img_folder: str, mask_folder: str):\n",
    "    \"\"\"\n",
    "    Checks for consistency between image files and their corresponding mask files in two folders.\n",
    "\n",
    "    This function verifies that the number of image files in img_folder is equal to the number of mask files \n",
    "    in mask_folder. It then checks that each image file has a corresponding mask file with the same name.\n",
    "\n",
    "    Parameters:\n",
    "    img_folder (str): Path to the folder containing images.\n",
    "    mask_folder (str): Path to the folder containing masks.\n",
    "\n",
    "    Raises:\n",
    "    AssertionError: If the number of files in img_folder and mask_folder is not equal.\n",
    "    ValueError: If an image file does not have a corresponding mask file with the same name in mask_folder.\n",
    "\n",
    "    Returns:\n",
    "    tuple: A tuple of two lists, the first being the image files and the second being the mask files.\n",
    "    \n",
    "    \"\"\"\n",
    "    missing_files = False\n",
    "    img_files = os.listdir(img_folder)\n",
    "\n",
    "    mask_files = os.listdir(mask_folder)\n",
    "\n",
    "    assert len(img_files) == len(mask_files)\n",
    "\n",
    "    # Verify that all images have a corresponding mask\n",
    "    for img_file in img_files:\n",
    "        mask_postfix = 'instance_color_RGB'\n",
    "        img_file = img_file.split('.')[0] + '_' + mask_postfix + '.png'\n",
    "        if img_file not in mask_files:\n",
    "            print(f\"Mask corresponding to image `{img_file}` was not found.\")\n",
    "            missing_files = True\n",
    "\n",
    "    print(f\"Missing files ? {missing_files}\")\n",
    "\n",
    "    return img_files, mask_files"
   ],
   "id": "2e11fbdc97535313",
   "outputs": [],
   "execution_count": null
  },
  {
   "cell_type": "code",
   "id": "e1989daa",
   "metadata": {},
   "source": [
    "img_dir, mask_dir = images_output_dir, mask_output_dir\n",
    "img_files, mask_files = check_dir_consistency_info(img_dir, mask_dir)"
   ],
   "outputs": [],
   "execution_count": null
  },
  {
   "cell_type": "markdown",
   "id": "0fbef884",
   "metadata": {},
   "source": [
    "### Visualize Data"
   ]
  },
  {
   "cell_type": "code",
   "id": "a8247b9b",
   "metadata": {},
   "source": "visualize_images(img_dir, mask_dir, seed=seed, mask_postfix='instance_color_RGB')",
   "outputs": [],
   "execution_count": null
  },
  {
   "cell_type": "code",
   "id": "87e00a81",
   "metadata": {},
   "source": [
    "all_dims = get_all_dims(img_dir)"
   ],
   "outputs": [],
   "execution_count": null
  },
  {
   "cell_type": "code",
   "id": "9f0c97a7",
   "metadata": {},
   "source": [
    "min_width = min(dim[0] for dim in all_dims)\n",
    "min_height = min(dim[1] for dim in all_dims)\n",
    "print(f\"Minimum width: {min_width}\")\n",
    "print(f\"Minimum height: {min_height}\")"
   ],
   "outputs": [],
   "execution_count": null
  },
  {
   "cell_type": "code",
   "id": "15abfd95",
   "metadata": {},
   "source": [
    "create_histograms_of_dims(img_dir, mult=True)"
   ],
   "outputs": [],
   "execution_count": null
  },
  {
   "cell_type": "code",
   "id": "cf31a0db",
   "metadata": {},
   "source": [
    "#create_histograms_of_dims(img_dir)"
   ],
   "outputs": [],
   "execution_count": null
  },
  {
   "cell_type": "code",
   "id": "7753de98",
   "metadata": {},
   "source": [
    "def count_images_below_threshold(img_dir, threshold: int = 448):\n",
    "    count = 0\n",
    "    images_too_small: list = []\n",
    "\n",
    "    for img_file in os.listdir(img_dir):\n",
    "        file_path = os.path.join(img_dir, img_file)\n",
    "\n",
    "        # Open image and get dim\n",
    "        try:\n",
    "            with Image.open(file_path) as img:\n",
    "                width, height = img.size\n",
    "                if width < threshold or height < threshold:\n",
    "                    count += 1\n",
    "                    images_too_small.append(file_path)\n",
    "        except IOError:\n",
    "            print(f\"Cannot open the file: {file_path}\")\n",
    "\n",
    "    return count, images_too_small\n",
    "\n",
    "patch_size = 448\n",
    "num_images_too_small, img_too_small = count_images_below_threshold(img_dir, threshold=patch_size)\n",
    "num_mask_too_small, mask_too_small = count_images_below_threshold(mask_dir, threshold=patch_size)\n",
    "print(f'Found {num_images_too_small} images and {num_mask_too_small} masks below threhsold.')\n",
    "\n",
    "# Remove images and masks\n",
    "if num_images_too_small == num_images_too_small:\n",
    "    [os.remove(img) for img in img_too_small]\n",
    "    [os.remove(img) for img in mask_too_small]\n",
    "else:\n",
    "    raise Exception(f\"There is a mismatch between your images and masks!\")"
   ],
   "outputs": [],
   "execution_count": null
  },
  {
   "cell_type": "code",
   "id": "76201a57",
   "metadata": {},
   "source": [
    "n_patches = 30\n",
    "output_imgs = os.path.join(tmp_data_dir, 'imgs_patches')\n",
    "output_masks = os.path.join(tmp_data_dir, 'masks_patches')\n",
    "\n",
    "[os.makedirs(dir, exist_ok=True) for dir in [output_imgs, output_masks]]"
   ],
   "outputs": [],
   "execution_count": null
  },
  {
   "metadata": {},
   "cell_type": "markdown",
   "source": "## Create Splits",
   "id": "03d7c755"
  },
  {
   "cell_type": "code",
   "id": "77fdda54",
   "metadata": {},
   "source": [
    "def create_folds_and_split_data(img_folder, mask_folder, \n",
    "                                output_dir, seed=42, n_folds=5,\n",
    "                                mask_postfix='instance_color_RGB') -> tuple:\n",
    "    # Set random seed\n",
    "    np.random.seed(seed)\n",
    "    \n",
    "    # Create folder structure\n",
    "    img_output_dir = os.path.join(output_dir, 'tmp_imgs')\n",
    "    mask_output_dir = os.path.join(output_dir, 'tmp_masks')\n",
    "\n",
    "    for i in range(n_folds):\n",
    "        os.makedirs(os.path.join(img_output_dir, f'fold_{i}'), exist_ok=True)\n",
    "        os.makedirs(os.path.join(mask_output_dir, f'fold_{i}'), exist_ok=True)\n",
    "\n",
    "    # Shuffle and split images\n",
    "    img_files = sorted(os.listdir(img_folder))\n",
    "    np.random.shuffle(img_files)\n",
    "\n",
    "    fold_size = len(img_files) // n_folds\n",
    "    print(f'Size of fold: {fold_size}')\n",
    "\n",
    "    for i, img_file in tqdm(enumerate(img_files), desc='files'):\n",
    "        fold_num = min(i // fold_size, n_folds - 1)  # Avoid exceeding the number of folds\n",
    "\n",
    "        # Copy image file\n",
    "        img_src = os.path.join(img_folder, img_file)\n",
    "        img_dst = os.path.join(img_output_dir, f'fold_{fold_num}', img_file)\n",
    "        shutil.copy(img_src, img_dst)\n",
    "\n",
    "        # Copy corresponding masks\n",
    "        mask_file = img_file.split('.')[0] + '_' + mask_postfix + '.png'\n",
    "        mask_src = os.path.join(mask_folder, mask_file)\n",
    "\n",
    "        mask_dst = os.path.join(mask_output_dir, f'fold_{fold_num}', mask_file)\n",
    "        shutil.copy(mask_src, mask_dst)\n",
    "        \n",
    "\n",
    "    return img_output_dir, mask_output_dir\n",
    "\n",
    "img_output_dir, mask_output_dir = create_folds_and_split_data(img_dir, mask_dir, output_dir, seed, n_folds=nb_folds)"
   ],
   "outputs": [],
   "execution_count": null
  },
  {
   "cell_type": "code",
   "id": "d6cf0579",
   "metadata": {},
   "source": [
    "def verify_image_mask_correspondence(output_dir, img_folder, mask_folder, mask_postfix='instance_color_RGB', n_folds=5):\n",
    "    \"\"\"\n",
    "    Verify that every image in each fold has corresponding masks for each category and vice versa,\n",
    "    and that the total count of images and masks matches the original dataset.\n",
    "\n",
    "    Args:\n",
    "    output_dir (str): The base directory where the 'imgs' and 'masks' subdirectories are located.\n",
    "    img_folder (str): The directory containing the original images.\n",
    "    mask_folder (str): The directory containing the original masks.\n",
    "    n_categories (int): Number of categories for each image.\n",
    "    n_folds (int): Number of folds to check for correspondence.\n",
    "\n",
    "    Raises:\n",
    "    Exception: If an image doesn't have corresponding masks, a mask doesn't have a corresponding image,\n",
    "               or the total count of images and masks doesn't match the original dataset.\n",
    "\n",
    "    Returns:\n",
    "    bool: True if all tests pass, False otherwise.\n",
    "    \"\"\"\n",
    "    img_output_dir = os.path.join(output_dir, 'tmp_imgs')\n",
    "    mask_output_dir = os.path.join(output_dir, 'tmp_masks')\n",
    "    original_img_count = len(os.listdir(img_folder))\n",
    "    original_mask_count = len(os.listdir(mask_folder)) \n",
    "    \n",
    "    total_img_count = 0\n",
    "    total_mask_count = 0\n",
    "\n",
    "    for i in range(n_folds):\n",
    "        img_fold_dir = os.path.join(img_output_dir, f'fold_{i}')\n",
    "        mask_fold_dir = os.path.join(mask_output_dir, f'fold_{i}')\n",
    "\n",
    "        img_files = set(os.listdir(img_fold_dir))\n",
    "        mask_files = set(os.listdir(mask_fold_dir))\n",
    "        total_img_count += len(img_files)\n",
    "        total_mask_count += len(mask_files)\n",
    "\n",
    "        # Test 1: Each image has corresponding masks\n",
    "        for img_file in img_files:\n",
    "            base_name = os.path.splitext(img_file)[0]\n",
    "            mask_file = f\"{base_name}_{mask_postfix}.png\"\n",
    "            if mask_file not in mask_files:\n",
    "                raise Exception(f\"Image {img_file} in fold_{i} does not have a corresponding mask.\")\n",
    "\n",
    "        # Test 2: Each mask has a corresponding image\n",
    "        for mask_file in mask_files:\n",
    "            base_name = mask_file.split('_')[0]\n",
    "            img_file = f\"{base_name}.png\"\n",
    "            if img_file not in img_files:\n",
    "                raise Exception(f\"Mask {mask_file} in fold_{i} does not have a corresponding image.\")\n",
    "\n",
    "    # Test 3: Total count of images and masks matches the original dataset\n",
    "    if total_img_count != original_img_count or total_mask_count != original_mask_count:\n",
    "        raise Exception(\"The total count of images or masks does not match the original dataset.\")\n",
    "\n",
    "    return True"
   ],
   "outputs": [],
   "execution_count": null
  },
  {
   "cell_type": "code",
   "id": "7366be87",
   "metadata": {},
   "source": [
    "try:\n",
    "    tests_passed = verify_image_mask_correspondence(output_dir, img_dir, mask_dir, n_folds=nb_folds)\n",
    "    if tests_passed:\n",
    "        print(\"All tests passed successfully.\")\n",
    "except Exception as e:\n",
    "    print(f\"Error: {e}\")"
   ],
   "outputs": [],
   "execution_count": null
  },
  {
   "cell_type": "code",
   "id": "5328aa96",
   "metadata": {},
   "source": [
    "images_patches_dir = os.path.join(output_dir, 'imgs')\n",
    "masks_patches_dir = os.path.join(output_dir, 'masks')\n",
    "os.makedirs(images_patches_dir, exist_ok=True)\n",
    "os.makedirs(masks_patches_dir, exist_ok=True)"
   ],
   "outputs": [],
   "execution_count": null
  },
  {
   "cell_type": "code",
   "id": "35563689",
   "metadata": {},
   "source": [
    "def extract_and_save_patches(img_dir, mask_dir, output_imgs_dir, \n",
    "                             output_masks_dir, num_patches=30, \n",
    "                             patch_size=(256, 256), seed=42, mask_postfix='instance_color_RGB'):\n",
    "    random.seed(seed)\n",
    "\n",
    "    # Get all image names\n",
    "    img_files = [f for f in os.listdir(img_dir) if os.path.isfile(os.path.join(img_dir, f))]\n",
    "\n",
    "    for img_file in tqdm(img_files, desc='Extracting patches'):\n",
    "        img_path = os.path.join(img_dir, img_file)\n",
    "        base_name, _ = os.path.splitext(img_file)\n",
    "        mask_file = img_file.split('.')[0] + '_' + mask_postfix + '.png'\n",
    "        print(f'mask_file: {mask_file}')\n",
    "        mask_path = os.path.join(mask_dir, mask_file)\n",
    "        print(f'mask_path: {mask_path}')\n",
    "        \n",
    "        with Image.open(img_path) as img:\n",
    "            for i in range(num_patches):\n",
    "                # Generate random position for cropping\n",
    "                x = random.randint(0, img.width - patch_size[0])\n",
    "                y = random.randint(0, img.height - patch_size[1])\n",
    "\n",
    "                # Extract and save image patch\n",
    "                img_patch = img.crop((x, y, x + patch_size[0], y + patch_size[1]))\n",
    "                img_patch_file_name = f\"{base_name}_patch_{i}.png\"\n",
    "                img_patch.save(os.path.join(output_imgs_dir, img_patch_file_name))\n",
    "\n",
    "                # Extract and save mask patches \n",
    "\n",
    "                if os.path.exists(mask_path):\n",
    "                    with Image.open(mask_path) as mask:\n",
    "                        mask_patch = mask.crop((x, y, x + patch_size[0], y + patch_size[1]))\n",
    "                        mask_patch_file_name = f\"{base_name}_patch_{i}.png\"\n",
    "                        mask_patch.save(os.path.join(output_masks_dir, mask_patch_file_name))"
   ],
   "outputs": [],
   "execution_count": null
  },
  {
   "cell_type": "code",
   "id": "6372a853",
   "metadata": {},
   "source": [
    "def create_patches(src_img_root_dir, src_masks_root_dir, output_imgs_root_dir, output_masks_root_dir, patch_size, nb_folds: int = 5):\n",
    "    for i in range(nb_folds):\n",
    "        fold = f'fold_{i}'\n",
    "        img_dir = os.path.join(src_img_root_dir, fold)\n",
    "        mask_dir = os.path.join(src_masks_root_dir, fold)\n",
    "\n",
    "        # Prepare dir to store final data\n",
    "        output_imgs_dir = os.path.join(output_imgs_root_dir, fold)\n",
    "        output_masks_dir = os.path.join(output_masks_root_dir, fold)\n",
    "        os.makedirs(output_imgs_dir, exist_ok=True)\n",
    "        os.makedirs(output_masks_dir, exist_ok=True)\n",
    "\n",
    "        extract_and_save_patches(img_dir, mask_dir, output_imgs_dir, output_masks_dir, num_patches=30, patch_size=(patch_size, patch_size), seed=42)"
   ],
   "outputs": [],
   "execution_count": null
  },
  {
   "cell_type": "code",
   "id": "e6f2c41f",
   "metadata": {},
   "source": [
    "create_patches(img_output_dir, mask_output_dir, images_patches_dir, masks_patches_dir, patch_size, nb_folds=nb_folds)"
   ],
   "outputs": [],
   "execution_count": null
  },
  {
   "cell_type": "code",
   "id": "3a5edb45",
   "metadata": {},
   "source": [
    "iSAID_palette = \\\n",
    "    {\n",
    "        0: (0, 0, 0),\n",
    "        1: (0, 0, 63),\n",
    "        2: (0, 63, 63),\n",
    "        3: (0, 63, 0),\n",
    "        4: (0, 63, 127),\n",
    "        5: (0, 63, 191),\n",
    "        6: (0, 63, 255),\n",
    "        7: (0, 127, 63),\n",
    "        8: (0, 127, 127),\n",
    "        9: (0, 0, 127),\n",
    "        10: (0, 0, 191),\n",
    "        11: (0, 0, 255),\n",
    "        12: (0, 191, 127),\n",
    "        13: (0, 127, 191),\n",
    "        14: (0, 127, 255),\n",
    "        15: (0, 100, 155)\n",
    "    }\n",
    "\n",
    "file = os.path.join(output_dir, 'isaid_mask_palette.json')\n",
    "with open(file, 'w') as json_file:\n",
    "    json.dump(iSAID_palette, json_file, indent=4)"
   ],
   "outputs": [],
   "execution_count": null
  },
  {
   "metadata": {},
   "cell_type": "code",
   "source": "print(output_dir)",
   "id": "8161e09027914470",
   "outputs": [],
   "execution_count": null
  },
  {
   "metadata": {},
   "cell_type": "code",
   "source": "",
   "id": "aad92add36c4ef77",
   "outputs": [],
   "execution_count": null
  }
 ],
 "metadata": {
  "kernelspec": {
   "display_name": "Python (.venv)",
   "language": "python",
   "name": ".venv"
  },
  "language_info": {
   "codemirror_mode": {
    "name": "ipython",
    "version": 3
   },
   "file_extension": ".py",
   "mimetype": "text/x-python",
   "name": "python",
   "nbconvert_exporter": "python",
   "pygments_lexer": "ipython3",
   "version": "3.11.6"
  }
 },
 "nbformat": 4,
 "nbformat_minor": 5
}
