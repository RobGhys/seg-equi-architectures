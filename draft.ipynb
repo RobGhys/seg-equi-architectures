{
 "cells": [
  {
   "cell_type": "code",
   "id": "initial_id",
   "metadata": {
    "collapsed": true,
    "ExecuteTime": {
     "end_time": "2024-10-16T14:12:08.601546Z",
     "start_time": "2024-10-16T14:12:08.597731Z"
    }
   },
   "source": "import math",
   "outputs": [],
   "execution_count": 7
  },
  {
   "metadata": {
    "ExecuteTime": {
     "end_time": "2024-10-16T14:15:33.848929Z",
     "start_time": "2024-10-16T14:15:33.846136Z"
    }
   },
   "cell_type": "code",
   "source": [
    "out_chans = [128, 256, 512, 1024, 64]\n",
    "cutoff = 6.65"
   ],
   "id": "38f16e3473c6000a",
   "outputs": [],
   "execution_count": 18
  },
  {
   "metadata": {
    "ExecuteTime": {
     "end_time": "2024-10-16T14:15:34.066692Z",
     "start_time": "2024-10-16T14:15:34.061995Z"
    }
   },
   "cell_type": "code",
   "source": [
    "filters = []\n",
    "for i in out_chans:\n",
    "    filters.append(math.ceil(i/cutoff / 2.) * 2)\n",
    "filters"
   ],
   "id": "4c9098e05f423516",
   "outputs": [
    {
     "data": {
      "text/plain": [
       "[20, 40, 78, 154, 10]"
      ]
     },
     "execution_count": 19,
     "metadata": {},
     "output_type": "execute_result"
    }
   ],
   "execution_count": 19
  },
  {
   "metadata": {},
   "cell_type": "code",
   "outputs": [],
   "execution_count": null,
   "source": "",
   "id": "9033bb1a55d4be2a"
  }
 ],
 "metadata": {
  "kernelspec": {
   "display_name": "Python 3",
   "language": "python",
   "name": "python3"
  },
  "language_info": {
   "codemirror_mode": {
    "name": "ipython",
    "version": 2
   },
   "file_extension": ".py",
   "mimetype": "text/x-python",
   "name": "python",
   "nbconvert_exporter": "python",
   "pygments_lexer": "ipython2",
   "version": "2.7.6"
  }
 },
 "nbformat": 4,
 "nbformat_minor": 5
}
