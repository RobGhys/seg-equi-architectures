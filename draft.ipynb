{
 "cells": [
  {
   "cell_type": "code",
   "id": "initial_id",
   "metadata": {
    "collapsed": true,
    "ExecuteTime": {
     "end_time": "2024-10-23T08:09:52.576347Z",
     "start_time": "2024-10-23T08:09:52.572467Z"
    }
   },
   "source": "import math",
   "outputs": [],
   "execution_count": 3
  },
  {
   "metadata": {
    "ExecuteTime": {
     "end_time": "2024-10-23T08:35:38.140581Z",
     "start_time": "2024-10-23T08:35:38.136546Z"
    }
   },
   "cell_type": "code",
   "source": [
    "out_chans = [128, 256, 512, 1024, 64]\n",
    "cutoff = 6.65"
   ],
   "id": "38f16e3473c6000a",
   "outputs": [],
   "execution_count": 25
  },
  {
   "metadata": {
    "ExecuteTime": {
     "end_time": "2024-10-23T08:35:38.356794Z",
     "start_time": "2024-10-23T08:35:38.351407Z"
    }
   },
   "cell_type": "code",
   "source": [
    "filters = []\n",
    "for i in out_chans:\n",
    "    filters.append(math.ceil(i/cutoff / 2.) * 2)\n",
    "filters"
   ],
   "id": "4c9098e05f423516",
   "outputs": [
    {
     "data": {
      "text/plain": [
       "[20, 40, 78, 154, 10]"
      ]
     },
     "execution_count": 26,
     "metadata": {},
     "output_type": "execute_result"
    }
   ],
   "execution_count": 26
  },
  {
   "metadata": {},
   "cell_type": "code",
   "outputs": [],
   "execution_count": null,
   "source": "# 52 et 12",
   "id": "9033bb1a55d4be2a"
  },
  {
   "metadata": {},
   "cell_type": "code",
   "outputs": [],
   "execution_count": null,
   "source": "",
   "id": "c0e23f010ef5b660"
  }
 ],
 "metadata": {
  "kernelspec": {
   "display_name": "Python 3",
   "language": "python",
   "name": "python3"
  },
  "language_info": {
   "codemirror_mode": {
    "name": "ipython",
    "version": 2
   },
   "file_extension": ".py",
   "mimetype": "text/x-python",
   "name": "python",
   "nbconvert_exporter": "python",
   "pygments_lexer": "ipython2",
   "version": "2.7.6"
  }
 },
 "nbformat": 4,
 "nbformat_minor": 5
}
