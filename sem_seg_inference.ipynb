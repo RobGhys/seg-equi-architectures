{
 "cells": [
  {
   "metadata": {
    "ExecuteTime": {
     "end_time": "2024-10-29T06:55:38.792360Z",
     "start_time": "2024-10-29T06:55:37.255395Z"
    }
   },
   "cell_type": "code",
   "source": [
    "import os\n",
    "import torch"
   ],
   "id": "ad44b71e53f0368e",
   "outputs": [],
   "execution_count": 1
  },
  {
   "metadata": {
    "ExecuteTime": {
     "end_time": "2024-10-29T06:55:38.809119Z",
     "start_time": "2024-10-29T06:55:38.804128Z"
    }
   },
   "cell_type": "code",
   "source": "small = False",
   "id": "54ce0899db9ce903",
   "outputs": [],
   "execution_count": 2
  },
  {
   "cell_type": "code",
   "id": "initial_id",
   "metadata": {
    "collapsed": true,
    "ExecuteTime": {
     "end_time": "2024-10-29T06:55:38.966231Z",
     "start_time": "2024-10-29T06:55:38.953538Z"
    }
   },
   "source": [
    "output_root_dir = '' \n",
    "weights_root_dir = '/home/rob/Documents/3_projects/bench/_results/ten_percent'\n",
    "\n",
    "model_names = ['D4']\n",
    "#model_names = ['UNet_e2cnn', 'UNet_vanilla', 'C8', 'D4']\n",
    "dataset_names = ['coco']\n",
    "#dataset_names = ['coco', 'isaid']\n",
    "final_epochs = {'isaid': 249, 'coco': 199}\n",
    "device = 'cuda' if torch.cuda.is_available() else 'cpu'\n",
    "print(device)"
   ],
   "outputs": [
    {
     "name": "stdout",
     "output_type": "stream",
     "text": [
      "cuda\n"
     ]
    }
   ],
   "execution_count": 3
  },
  {
   "metadata": {
    "ExecuteTime": {
     "end_time": "2024-10-29T06:55:39.131559Z",
     "start_time": "2024-10-29T06:55:39.122289Z"
    }
   },
   "cell_type": "code",
   "source": [
    "settings_small = {\n",
    "    \"isaid\": {\n",
    "        \"name\": \"isaid\",\n",
    "        \"path\": \"/home/rob/Documents/3_projects/bench/isaid\",\n",
    "        \"multiclass_palette_path\" : \"/home/rob/Documents/3_projects/bench/isaid/isaid_mask_palette.json\",\n",
    "        \"in_channels\": 3,\n",
    "        \"n_classes\": 16,\n",
    "        \"num_workers\": 32,\n",
    "        \"shuffle\": True,\n",
    "        \"mask_type\": \"multiclass_semantic\",\n",
    "        \"transforms\": {\n",
    "            \"Resize\": [224, 224],\n",
    "            \"RandomCrop\": None,\n",
    "            \"flip\": True,\n",
    "            \"rot\": True,\n",
    "            \"Normalize\": [[0.5, 0.5, 0.5], [0.5, 0.5, 0.5]]\n",
    "        },\n",
    "        \"batch_size\": 16,\n",
    "        \"models\": {\n",
    "            \"input_size\": 224,\n",
    "            \"UNet_vanilla\": {\n",
    "                \"lbda\": 6,\n",
    "                \"bilinear\": True,\n",
    "                \"kernel_size\": 3,\n",
    "                \"acti\": \"relu\",\n",
    "                \"acti_kwargs\": {\n",
    "                    \"inplace\": True\n",
    "                }\n",
    "            },\n",
    "            \"UNet_e2cnn\": {\n",
    "                \"lbda\": 23,\n",
    "                \"bilinear\": True,\n",
    "                \"gspace\": \"C4\",\n",
    "                \"acti\": \"relu\",\n",
    "                \"acti_kwargs\": {\n",
    "                    \"inplace\": True\n",
    "                },\n",
    "                \"kernel_size\": 9,\n",
    "                \"mode\": \"pure\"\n",
    "            },\n",
    "            \"C8\": {\n",
    "                \"lbda\": 31,\n",
    "                \"bilinear\": True,\n",
    "                \"gspace\": \"C8\",\n",
    "                \"acti\": \"relu\",\n",
    "                \"acti_kwargs\": {\n",
    "                    \"inplace\": True\n",
    "                },\n",
    "                \"kernel_size\": 9,\n",
    "                \"mode\": \"pure\"\n",
    "            },\n",
    "            \"D4\": {\n",
    "                \"lbda\": 31,\n",
    "                \"bilinear\": True,\n",
    "                \"gspace\": \"D4\",\n",
    "                \"acti\": \"relu\",\n",
    "                \"acti_kwargs\": {\n",
    "                    \"inplace\": True\n",
    "                },\n",
    "                \"kernel_size\": 9,\n",
    "                \"mode\": \"pure\"\n",
    "            }\n",
    "        }\n",
    "    },\n",
    "    \"coco\": {\n",
    "        \"name\": \"coco\",\n",
    "        \"annotation_file\": \"/home/rob/Documents/3_projects/bench/coco/output/tmp_data/stuff_annotations_trainval2017/annotations/stuff_train2017.json\",\n",
    "        \"path\": \"/home/rob/Documents/3_projects/bench/coco/output\",\n",
    "        \"multiclass_palette_path\": None,\n",
    "        \"in_channels\": 3,\n",
    "        \"n_classes\": 93,\n",
    "        \"num_workers\": 32,\n",
    "        \"shuffle\": True,\n",
    "        \"mask_type\": \"multiclass_semantic\",\n",
    "        \"batch_size\": 16,\n",
    "        \"transforms\": {\n",
    "            \"Resize\": [224, 224],\n",
    "            \"RandomCrop\": None,\n",
    "            \"flip\": True,\n",
    "            \"rot\": True,\n",
    "            \"Normalize\": [[0.5, 0.5, 0.5], [0.5, 0.5, 0.5]]\n",
    "        },\n",
    "        \"models\": {\n",
    "            \"input_size\": 224,\n",
    "            \"lr\": 0.001,\n",
    "            \"num_epochs\": 200,\n",
    "            \"UNet_vanilla\": {\n",
    "                \"lbda\": 6,\n",
    "                \"bilinear\": True,\n",
    "                \"kernel_size\": 3,\n",
    "                \"acti\": \"relu\",\n",
    "                \"acti_kwargs\": {\n",
    "                    \"inplace\": True\n",
    "                }\n",
    "            },\n",
    "            \"UNet_e2cnn\": {\n",
    "                \"lbda\": 23,\n",
    "                \"bilinear\": True,\n",
    "                \"gspace\": \"C4\",\n",
    "                \"acti\": \"relu\",\n",
    "                \"acti_kwargs\": {\n",
    "                    \"inplace\": True\n",
    "                },\n",
    "                \"kernel_size\": 9,\n",
    "                \"mode\": \"pure\"\n",
    "            },\n",
    "            \"C8\": {\n",
    "                \"lbda\": 31,\n",
    "                \"bilinear\": True,\n",
    "                \"gspace\": \"C8\",\n",
    "                \"acti\": \"relu\",\n",
    "                \"acti_kwargs\": {\n",
    "                    \"inplace\": True\n",
    "                },\n",
    "                \"kernel_size\": 9,\n",
    "                \"mode\": \"pure\"\n",
    "            },\n",
    "            \"D4\": {\n",
    "                \"lbda\": 31,\n",
    "                \"bilinear\": True,\n",
    "                \"gspace\": \"D4\",\n",
    "                \"acti\": \"relu\",\n",
    "                \"acti_kwargs\": {\n",
    "                    \"inplace\": True\n",
    "                },\n",
    "                \"kernel_size\": 9,\n",
    "                \"mode\": \"pure\"\n",
    "            }\n",
    "        }\n",
    "    }\n",
    "}"
   ],
   "id": "9ed0bb1f2a582822",
   "outputs": [],
   "execution_count": 4
  },
  {
   "metadata": {
    "ExecuteTime": {
     "end_time": "2024-10-29T06:55:39.199879Z",
     "start_time": "2024-10-29T06:55:39.190557Z"
    }
   },
   "cell_type": "code",
   "source": [
    "settings_large = {\n",
    "    \"isaid\": {\n",
    "        \"name\": \"isaid\",\n",
    "        \"path\": \"/home/rob/Documents/3_projects/bench/isaid\",\n",
    "        \"multiclass_palette_path\" : \"/home/rob/Documents/3_projects/bench/isaid/isaid_mask_palette.json\",\n",
    "        \"in_channels\": 3,\n",
    "        \"n_classes\": 16,\n",
    "        \"shuffle\": True,\n",
    "        \"mask_type\": \"multiclass_semantic\",\n",
    "        \"num_workers\": 32,\n",
    "        \"batch_size\": 16,\n",
    "        \"transforms\": {\n",
    "            \"Resize\": [224, 224],\n",
    "            \"RandomCrop\": None,\n",
    "            \"flip\": True,\n",
    "            \"rot\": True,\n",
    "            \"Normalize\": [[0.5, 0.5, 0.5], [0.5, 0.5, 0.5]]\n",
    "        },\n",
    "        \"models\": {\n",
    "            \"input_size\": 224,\n",
    "            \"UNet_vanilla\": {\n",
    "                \"lbda\": 1.25,\n",
    "                \"bilinear\": True,\n",
    "                \"kernel_size\": 3,\n",
    "                \"acti\": \"relu\",\n",
    "                \"acti_kwargs\": {\n",
    "                    \"inplace\": True\n",
    "                }\n",
    "            },\n",
    "            \"UNet_e2cnn\": {\n",
    "                \"lbda\": 4.65,\n",
    "                \"bilinear\": True,\n",
    "                \"gspace\": \"C4\",\n",
    "                \"acti\": \"relu\",\n",
    "                \"acti_kwargs\": {\n",
    "                    \"inplace\": True\n",
    "                },\n",
    "                \"kernel_size\": 9,\n",
    "                \"mode\": \"pure\"\n",
    "            },\n",
    "            \"C8\": {\n",
    "                \"lbda\": 6.65,\n",
    "                \"bilinear\": True,\n",
    "                \"gspace\": \"C8\",\n",
    "                \"acti\": \"relu\",\n",
    "                \"acti_kwargs\": {\n",
    "                    \"inplace\": True\n",
    "                },\n",
    "                \"kernel_size\": 9,\n",
    "                \"mode\": \"pure\"\n",
    "            },\n",
    "            \"D4\": {\n",
    "                \"lbda\": 6.65,\n",
    "                \"bilinear\": True,\n",
    "                \"gspace\": \"D4\",\n",
    "                \"acti\": \"relu\",\n",
    "                \"acti_kwargs\": {\n",
    "                    \"inplace\": True\n",
    "                },\n",
    "                \"kernel_size\": 9,\n",
    "                \"mode\": \"pure\"\n",
    "            }\n",
    "        }\n",
    "    },\n",
    "    \"coco\": {\n",
    "        \"name\": \"coco\",\n",
    "        \"annotation_file\": \"/home/rob/Documents/3_projects/bench/coco/output/tmp_data/stuff_annotations_trainval2017/annotations/stuff_train2017.json\",\n",
    "        \"path\": \"/home/rob/Documents/3_projects/bench/coco/output\",\n",
    "        \"multiclass_palette_path\": None,\n",
    "        \"in_channels\": 3,\n",
    "        \"n_classes\": 93,\n",
    "        \"num_workers\": 32,\n",
    "        \"shuffle\": True,\n",
    "        \"transforms\": {\n",
    "            \"Resize\": [224, 224],\n",
    "            \"RandomCrop\": None,\n",
    "            \"flip\": True,\n",
    "            \"rot\": True,\n",
    "            \"Normalize\": [[0.5, 0.5, 0.5], [0.5, 0.5, 0.5]]\n",
    "        },\n",
    "        \"mask_type\": \"multiclass_semantic\",\n",
    "        \"batch_size\": 16,\n",
    "        \"models\": {\n",
    "            \"input_size\": 224,\n",
    "            \"lr\": 0.001,\n",
    "            \"num_epochs\": 200,\n",
    "            \"UNet_vanilla\": {\n",
    "                \"lbda\": 1.25,\n",
    "                \"bilinear\": True,\n",
    "                \"kernel_size\": 3,\n",
    "                \"acti\": \"relu\",\n",
    "                \"acti_kwargs\": {\n",
    "                    \"inplace\": True\n",
    "                }\n",
    "            },\n",
    "            \"UNet_e2cnn\": {\n",
    "                \"lbda\": 4.65,\n",
    "                \"bilinear\": True,\n",
    "                \"gspace\": \"C4\",\n",
    "                \"acti\": \"relu\",\n",
    "                \"acti_kwargs\": {\n",
    "                    \"inplace\": True\n",
    "                },\n",
    "                \"kernel_size\": 9,\n",
    "                \"mode\": \"pure\"\n",
    "            },\n",
    "            \"C8\": {\n",
    "                \"lbda\": 6.65,\n",
    "                \"bilinear\": True,\n",
    "                \"gspace\": \"C8\",\n",
    "                \"acti\": \"relu\",\n",
    "                \"acti_kwargs\": {\n",
    "                    \"inplace\": True\n",
    "                },\n",
    "                \"kernel_size\": 9,\n",
    "                \"mode\": \"pure\"\n",
    "            },\n",
    "            \"D4\": {\n",
    "                \"lbda\": 6.65,\n",
    "                \"bilinear\": True,\n",
    "                \"gspace\": \"D4\",\n",
    "                \"acti\": \"relu\",\n",
    "                \"acti_kwargs\": {\n",
    "                    \"inplace\": True\n",
    "                },\n",
    "                \"kernel_size\": 9,\n",
    "                \"mode\": \"pure\"\n",
    "            }\n",
    "        }\n",
    "    }\n",
    "}"
   ],
   "id": "977f1dfdf9c38a7d",
   "outputs": [],
   "execution_count": 5
  },
  {
   "metadata": {
    "ExecuteTime": {
     "end_time": "2024-10-29T06:55:39.250845Z",
     "start_time": "2024-10-29T06:55:39.245658Z"
    }
   },
   "cell_type": "code",
   "source": [
    "if small:\n",
    "    print('small')\n",
    "    settings = settings_small\n",
    "    weights_loc = os.path.join(weights_root_dir, 'small_models')\n",
    "else:\n",
    "    print('large')\n",
    "    settings = settings_large\n",
    "    weights_loc = os.path.join(weights_root_dir, 'large_models')"
   ],
   "id": "783b2624d86c1c72",
   "outputs": [
    {
     "name": "stdout",
     "output_type": "stream",
     "text": [
      "large\n"
     ]
    }
   ],
   "execution_count": 6
  },
  {
   "metadata": {
    "ExecuteTime": {
     "end_time": "2024-10-29T06:55:40.244617Z",
     "start_time": "2024-10-29T06:55:39.307813Z"
    }
   },
   "cell_type": "code",
   "source": [
    "import sys\n",
    "import os\n",
    "\n",
    "import torch.nn as nn\n",
    "import e2cnn.nn as e2_nn\n",
    "from e2cnn import gspaces\n",
    "from models import *\n",
    "from building_blocks import *\n",
    "\n",
    "\n",
    "def getModel(model_name, settings):\n",
    "\n",
    "    if model_name == 'UNet_vanilla':\n",
    "        acti = nn.ReLU\n",
    "        acti_kwargs = settings['models'][model_name]['acti_kwargs']\n",
    "    elif model_name == 'UNet_e2cnn' or model_name == 'C8' or model_name == 'D4':\n",
    "        acti = e2_nn.ReLU\n",
    "        acti_kwargs = settings['models']['UNet_e2cnn']['acti_kwargs']\n",
    "\n",
    "    if model_name == 'UNet_vanilla':\n",
    "        model = UNet_vanilla(settings['in_channels'], settings['n_classes'], \n",
    "                             lbda=settings['models'][model_name]['lbda'], acti=acti, \n",
    "                             acti_kwargs=acti_kwargs, bilinear=settings['models'][model_name]['bilinear'],\n",
    "                             kernel_size=settings['models'][model_name]['kernel_size'])\n",
    "        n_params = sum(p.numel() for p in model.parameters() if p.requires_grad)\n",
    "        return model, n_params\n",
    "\n",
    "    elif model_name == 'UNet_e2cnn' or model_name == 'C8' or model_name == 'D4':\n",
    "        if model_name == 'UNet_e2cnn':\n",
    "            gspace = gspaces.Rot2dOnR2(N=4)\n",
    "            lbda = settings['models']['UNet_e2cnn']['lbda']\n",
    "            print(f'lbda: {lbda}')\n",
    "            print(f'C4 mother')\n",
    "        elif model_name == 'C8':\n",
    "            gspace = gspaces.Rot2dOnR2(N=8)\n",
    "            lbda = settings['models']['C8']['lbda']\n",
    "            print(f'lbda: {lbda}')\n",
    "            print(f'C8 brother')\n",
    "        elif model_name == 'D4':\n",
    "            gspace = gspaces.FlipRot2dOnR2(N=4)\n",
    "            lbda = settings['models']['D4']['lbda']\n",
    "            print(f'lbda: {lbda}')\n",
    "            print(f'D4 sister')\n",
    "        else:\n",
    "            raise NotImplementedError(\"gspace should be C4, C8 or D4\")\n",
    "        model = UNet_e2cnn(settings['in_channels'], settings['n_classes'],\n",
    "                           lbda=lbda, acti=acti, \n",
    "                           acti_kwargs=acti_kwargs, bilinear=settings['models']['UNet_e2cnn']['bilinear'],\n",
    "                           kernel_size=settings['models']['UNet_e2cnn']['kernel_size'],\n",
    "                           mode=settings['models']['UNet_e2cnn']['mode'], gspace=gspace)\n",
    "        n_params = sum(p.numel() for p in model.parameters() if p.requires_grad)\n",
    "        return model, n_params\n"
   ],
   "id": "91bb8528a424bc44",
   "outputs": [],
   "execution_count": 7
  },
  {
   "metadata": {
    "ExecuteTime": {
     "end_time": "2024-10-29T06:55:41.004713Z",
     "start_time": "2024-10-29T06:55:40.255944Z"
    }
   },
   "cell_type": "code",
   "source": [
    "import torch\n",
    "import torchmetrics\n",
    "from tqdm import tqdm\n",
    "\n",
    "#meanIou -> IoU\n",
    "def get_segmentation_metrics(num_classes, device):\n",
    "    return {\n",
    "        'IoU': torchmetrics.JaccardIndex(task='multiclass', num_classes=num_classes, average='macro').to(device),\n",
    "        'Dice': torchmetrics.Dice(num_classes=num_classes, average='macro').to(device),\n",
    "        'Pixel Accuracy': torchmetrics.Accuracy(task='multiclass', num_classes=num_classes, average='micro').to(device),\n",
    "        'Mean Accuracy': torchmetrics.Accuracy(task='multiclass', num_classes=num_classes, average='macro').to(device),\n",
    "        'Frequency Weighted IoU': torchmetrics.JaccardIndex(task='multiclass', num_classes=num_classes, average='weighted').to(device),\n",
    "        'Recall': torchmetrics.Recall(task='multiclass', num_classes=num_classes, average='macro').to(device),\n",
    "        'Precision': torchmetrics.Precision(task='multiclass', num_classes=num_classes, average='macro').to(device)\n",
    "    }\n",
    "\n",
    "def run_inference(model, data_loader, device, num_classes):\n",
    "    eval_metrics = get_segmentation_metrics(num_classes, device)\n",
    "    all_results = {metric_name: [] for metric_name in eval_metrics.keys()}\n",
    "\n",
    "    model.eval()\n",
    "    with torch.no_grad():\n",
    "        for i, data in tqdm(enumerate(data_loader)):\n",
    "            imgs, masks = data['img'].to(device, dtype=torch.float32), data['mask'].to(device, dtype=torch.long)\n",
    "\n",
    "            masks = masks.squeeze(1)\n",
    "\n",
    "            masks_pred = model(imgs)\n",
    "\n",
    "            masks_pred_class = torch.argmax(masks_pred, dim=1)  # (N, H, W)\n",
    "\n",
    "            for name, metric in eval_metrics.items():\n",
    "                if name in ['IoU', 'Dice', 'Frequency Weighted IoU']:\n",
    "                    metric_result = metric(masks_pred, masks)\n",
    "                else:\n",
    "                    metric_result = metric(masks_pred_class, masks)\n",
    "                all_results[name].append(metric_result.item())\n",
    "\n",
    "    avg_results = {name: torch.tensor(values).mean().item() for name, values in all_results.items()}\n",
    "    return avg_results\n"
   ],
   "id": "bd0d25045b96f5b5",
   "outputs": [],
   "execution_count": 8
  },
  {
   "metadata": {
    "ExecuteTime": {
     "end_time": "2024-10-29T06:55:41.018111Z",
     "start_time": "2024-10-29T06:55:41.014902Z"
    }
   },
   "cell_type": "code",
   "source": "errors_list = []",
   "id": "7b9428bd22d9a0f9",
   "outputs": [],
   "execution_count": 9
  },
  {
   "metadata": {
    "ExecuteTime": {
     "end_time": "2024-10-29T08:34:03.474223Z",
     "start_time": "2024-10-29T06:55:41.059230Z"
    }
   },
   "cell_type": "code",
   "source": [
    "import json\n",
    "#from src.Benchmarks.training.load_model import getModel\n",
    "from src.Benchmarks.training.load_data import get_data_loader\n",
    "# isaid small D4 & C8 --> 249 !!! \n",
    "\n",
    "results_dict = {}  # Initialize the main dictionary to hold all results\n",
    "\n",
    "for dataset_name in dataset_names:\n",
    "    print(f'***\\nProcessing {dataset_name}\\n***')\n",
    "    results_dict[dataset_name] = {}\n",
    "    settings_ds = settings[dataset_name] \n",
    "    \n",
    "    for model_name in model_names:\n",
    "        print(f'Processing {dataset_name} with {model_name}')\n",
    "        results_dict[dataset_name][model_name] = {}\n",
    "        \n",
    "        for fold in range(5):\n",
    "            print(f'Processing fold {fold}')\n",
    "            output_path = os.path.join(output_root_dir, dataset_name, model_name, 'fold_' + str(fold))\n",
    "            os.makedirs(output_path, exist_ok=True)\n",
    "            _, test_loader = get_data_loader(settings_ds, fold)\n",
    "            model, _ = getModel(model_name, settings_ds)\n",
    "            model = model.to(device=device)\n",
    "        \n",
    "            checkpoint_path = os.path.join(weights_loc, dataset_name, model_name, f'fold_{fold}',\n",
    "                                           'checkpoint_epoch_{}.pth'.format(final_epochs[dataset_name])) \n",
    "            \n",
    "            try:\n",
    "                checkpoint = torch.load(checkpoint_path, map_location=device)\n",
    "                model.load_state_dict(checkpoint)\n",
    "                model.eval() \n",
    "                \n",
    "                num_classes = settings_ds['n_classes']\n",
    "                results = run_inference(model, test_loader, device, num_classes)\n",
    "                \n",
    "                results_dict[dataset_name][model_name][f'fold_{fold}'] = results\n",
    "                \n",
    "                print(f\"Results for fold {fold}: {results}\")\n",
    "            except (FileNotFoundError, RuntimeError) as e:\n",
    "                check_fail = f'fold_{fold}&{model_name}&{dataset_name}'\n",
    "                print(f'!!! Could not load {check_fail}')\n",
    "                errors_list.append(check_fail)\n",
    "        \n",
    "        print(f'!!! Finished ---> Processing {dataset_name} with {model_name}')\n",
    "\n",
    "json_name = 'final_inference_results_ten_percent_large_isaid_d4.json'\n",
    "final_results_path = os.path.join(output_root_dir, json_name) \n",
    "with open(final_results_path, 'w') as f:\n",
    "    json.dump(results_dict, f, indent=4)"
   ],
   "id": "bedc21f4324eb21f",
   "outputs": [
    {
     "name": "stdout",
     "output_type": "stream",
     "text": [
      "***\n",
      "Processing coco\n",
      "***\n",
      "Processing coco with D4\n",
      "Processing fold 0\n",
      "loading annotations into memory...\n",
      "Done (t=8.82s)\n",
      "creating index...\n",
      "index created!\n",
      "lbda: 6.65\n",
      "D4 sister\n"
     ]
    },
    {
     "name": "stderr",
     "output_type": "stream",
     "text": [
      "/home/rob/Documents/Github/seg-equi-architectures/.venv/lib/python3.11/site-packages/e2cnn/nn/modules/r2_conv/basisexpansion_singleblock.py:80: UserWarning: indexing with dtype torch.uint8 is now deprecated, please use a dtype torch.bool instead. (Triggered internally at ../aten/src/ATen/native/IndexingUtils.h:27.)\n",
      "  full_mask[mask] = norms.to(torch.uint8)\n",
      "1479it [18:07,  1.36it/s]\n"
     ]
    },
    {
     "name": "stdout",
     "output_type": "stream",
     "text": [
      "Results for fold 0: {'IoU': 0.09043493121862411, 'Dice': 0.12063877284526825, 'Pixel Accuracy': 0.5858597755432129, 'Mean Accuracy': 0.12831266224384308, 'Frequency Weighted IoU': 0.4504017233848572, 'Recall': 0.12831266224384308, 'Precision': 0.15115264058113098}\n",
      "Processing fold 1\n",
      "loading annotations into memory...\n",
      "Done (t=8.74s)\n",
      "creating index...\n",
      "index created!\n",
      "lbda: 6.65\n",
      "D4 sister\n"
     ]
    },
    {
     "name": "stderr",
     "output_type": "stream",
     "text": [
      "1479it [18:07,  1.36it/s]\n"
     ]
    },
    {
     "name": "stdout",
     "output_type": "stream",
     "text": [
      "Results for fold 1: {'IoU': 0.08945466578006744, 'Dice': 0.1192462295293808, 'Pixel Accuracy': 0.5843497514724731, 'Mean Accuracy': 0.12720130383968353, 'Frequency Weighted IoU': 0.4584929049015045, 'Recall': 0.12720130383968353, 'Precision': 0.14696092903614044}\n",
      "Processing fold 2\n",
      "loading annotations into memory...\n",
      "Done (t=9.23s)\n",
      "creating index...\n",
      "index created!\n",
      "lbda: 6.65\n",
      "D4 sister\n"
     ]
    },
    {
     "name": "stderr",
     "output_type": "stream",
     "text": [
      "1479it [18:07,  1.36it/s]\n"
     ]
    },
    {
     "name": "stdout",
     "output_type": "stream",
     "text": [
      "Results for fold 2: {'IoU': 0.08914632350206375, 'Dice': 0.11892568320035934, 'Pixel Accuracy': 0.5874505043029785, 'Mean Accuracy': 0.12624037265777588, 'Frequency Weighted IoU': 0.455716609954834, 'Recall': 0.12624037265777588, 'Precision': 0.14863309264183044}\n",
      "Processing fold 3\n",
      "loading annotations into memory...\n",
      "Done (t=10.51s)\n",
      "creating index...\n",
      "index created!\n",
      "lbda: 6.65\n",
      "D4 sister\n"
     ]
    },
    {
     "name": "stderr",
     "output_type": "stream",
     "text": [
      "1479it [18:07,  1.36it/s]\n"
     ]
    },
    {
     "name": "stdout",
     "output_type": "stream",
     "text": [
      "Results for fold 3: {'IoU': 0.0920352190732956, 'Dice': 0.12237709015607834, 'Pixel Accuracy': 0.5860458016395569, 'Mean Accuracy': 0.13090412318706512, 'Frequency Weighted IoU': 0.45700496435165405, 'Recall': 0.13090412318706512, 'Precision': 0.15281780064105988}\n",
      "Processing fold 4\n",
      "loading annotations into memory...\n",
      "Done (t=8.59s)\n",
      "creating index...\n",
      "index created!\n",
      "lbda: 6.65\n",
      "D4 sister\n"
     ]
    },
    {
     "name": "stderr",
     "output_type": "stream",
     "text": [
      "1479it [18:07,  1.36it/s]"
     ]
    },
    {
     "name": "stdout",
     "output_type": "stream",
     "text": [
      "Results for fold 4: {'IoU': 0.09182731807231903, 'Dice': 0.12218154966831207, 'Pixel Accuracy': 0.5922646522521973, 'Mean Accuracy': 0.13032254576683044, 'Frequency Weighted IoU': 0.4575920104980469, 'Recall': 0.13032254576683044, 'Precision': 0.15268298983573914}\n",
      "!!! Finished ---> Processing coco with D4\n"
     ]
    },
    {
     "name": "stderr",
     "output_type": "stream",
     "text": [
      "\n"
     ]
    }
   ],
   "execution_count": 10
  },
  {
   "metadata": {
    "ExecuteTime": {
     "end_time": "2024-10-29T08:34:04.598760Z",
     "start_time": "2024-10-29T08:34:04.595621Z"
    }
   },
   "cell_type": "code",
   "source": "print(errors_list)",
   "id": "e57db25075df5442",
   "outputs": [
    {
     "name": "stdout",
     "output_type": "stream",
     "text": [
      "[]\n"
     ]
    }
   ],
   "execution_count": 11
  }
 ],
 "metadata": {
  "kernelspec": {
   "display_name": "Python 3",
   "language": "python",
   "name": "python3"
  },
  "language_info": {
   "codemirror_mode": {
    "name": "ipython",
    "version": 2
   },
   "file_extension": ".py",
   "mimetype": "text/x-python",
   "name": "python",
   "nbconvert_exporter": "python",
   "pygments_lexer": "ipython2",
   "version": "2.7.6"
  }
 },
 "nbformat": 4,
 "nbformat_minor": 5
}
